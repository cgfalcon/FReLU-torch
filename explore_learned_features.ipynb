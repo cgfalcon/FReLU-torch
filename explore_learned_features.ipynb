{
 "cells": [
  {
   "cell_type": "markdown",
   "source": [
    "# "
   ],
   "metadata": {
    "collapsed": false
   },
   "id": "6ff988fc2e7e1592"
  },
  {
   "cell_type": "markdown",
   "source": [
    "## Install package"
   ],
   "metadata": {
    "collapsed": false
   },
   "id": "b3e56f1c3849978b"
  },
  {
   "cell_type": "code",
   "outputs": [
    {
     "data": {
      "text/plain": "<module 'src' from '/Users/typeorigin/PythonProjects/FReLU-torch/src/__init__.py'>"
     },
     "execution_count": 2,
     "metadata": {},
     "output_type": "execute_result"
    }
   ],
   "source": [
    "import numpy as np\n",
    "import matplotlib.pyplot as plt\n",
    "import torchvision\n",
    "from torchvision import datasets, transforms\n",
    "import torch\n",
    "from torch.utils.data import Subset\n",
    "import torch.nn as nn\n",
    "\n",
    "import wandb\n",
    "\n",
    "import src\n",
    "import importlib\n",
    "from src import *\n",
    "\n",
    "importlib.reload(src)"
   ],
   "metadata": {
    "collapsed": false,
    "ExecuteTime": {
     "end_time": "2024-04-18T04:13:09.895584Z",
     "start_time": "2024-04-18T04:13:07.011097Z"
    }
   },
   "id": "2e202f672ca937e2",
   "execution_count": 2
  },
  {
   "cell_type": "code",
   "outputs": [
    {
     "name": "stdout",
     "output_type": "stream",
     "text": [
      "MPS is available on this device.\n"
     ]
    }
   ],
   "source": [
    "device = 'cpu'\n",
    "# Check if MPS is supported and available\n",
    "if torch.backends.mps.is_available():\n",
    "    print(\"MPS is available on this device.\")\n",
    "    device = torch.device(\"mps\")  # Use MPS device\n",
    "            # device = 'cpu'\n",
    "else:\n",
    "    print(\"MPS not available, using CPU instead.\")\n",
    "    device = torch.device(\"cpu\")  # Fallback to CPU"
   ],
   "metadata": {
    "collapsed": false,
    "ExecuteTime": {
     "end_time": "2024-04-18T04:13:10.992946Z",
     "start_time": "2024-04-18T04:13:10.952742Z"
    }
   },
   "id": "7a36385bbe0387ed",
   "execution_count": 3
  },
  {
   "cell_type": "code",
   "outputs": [
    {
     "data": {
      "text/plain": ""
     },
     "execution_count": 13,
     "metadata": {},
     "output_type": "execute_result"
    }
   ],
   "source": [
    "wandb. init(mode=\"disabled\")"
   ],
   "metadata": {
    "collapsed": false,
    "ExecuteTime": {
     "end_time": "2024-04-18T04:15:52.516667Z",
     "start_time": "2024-04-18T04:15:52.485077Z"
    }
   },
   "id": "789685fdcbc464d1",
   "execution_count": 13
  },
  {
   "cell_type": "code",
   "outputs": [],
   "source": [
    "\n",
    "\n",
    "exper_configs = {\n",
    "        # Context\n",
    "        'architecture': 'VGG11Net3D',\n",
    "        'dataset': 'CIFAR10',\n",
    "\n",
    "        'trainer_args': {\n",
    "            'trainer': 'BasicTrainer',\n",
    "\n",
    "            'clip_gradients': True,\n",
    "            'max_gradients': 5,\n",
    "\n",
    "            # Kfold\n",
    "            'k_n': 2,\n",
    "\n",
    "            # Optimizer\n",
    "            'optimizer': 'SGD',\n",
    "            'lr': 0.01,\n",
    "            'momentum': 0.9,\n",
    "            'epochs': 20,\n",
    "            \n",
    "            # 'optimizer': 'ADAM',\n",
    "            # 'lr': 0.001,\n",
    "            # 'momentum': 0.9,\n",
    "            # 'weight_decay': 0.00005,\n",
    "            # 'epochs': 50,\n",
    "\n",
    "            # Use 20% of train dataset as validation\n",
    "            'val_ratio': 0.2,\n",
    "\n",
    "            # Dataset\n",
    "            'batch_size': 500,\n",
    "        },\n",
    "\n",
    "        # Model params\n",
    "        'model_args': {\n",
    "            # Activation Function\n",
    "            'af_name': 'LeakyADA',\n",
    "            'af_params': {\n",
    "                'alpha': 0.5,\n",
    "                'leak': 0.01\n",
    "            }\n",
    "        }\n",
    "    }\n",
    "\n",
    "\n"
   ],
   "metadata": {
    "collapsed": false,
    "ExecuteTime": {
     "end_time": "2024-04-18T06:23:58.590566Z",
     "start_time": "2024-04-18T06:23:58.587149Z"
    }
   },
   "id": "9c2e2ab64d01bcc1",
   "execution_count": 154
  },
  {
   "cell_type": "code",
   "outputs": [],
   "source": [
    "img_transforms = transforms.Compose([\n",
    "    transforms.Resize((32, 32)),\n",
    "    transforms.ToTensor(),\n",
    "])"
   ],
   "metadata": {
    "collapsed": false,
    "ExecuteTime": {
     "end_time": "2024-04-18T06:24:00.921247Z",
     "start_time": "2024-04-18T06:24:00.894872Z"
    }
   },
   "id": "ba026e4482707084",
   "execution_count": 155
  },
  {
   "cell_type": "code",
   "outputs": [
    {
     "name": "stdout",
     "output_type": "stream",
     "text": [
      "Files already downloaded and verified\n",
      "Files already downloaded and verified\n"
     ]
    }
   ],
   "source": [
    "dataset_name = exper_configs['dataset']\n",
    "if dataset_name == 'MINST':\n",
    "    train = torchvision.datasets.MNIST(root='.', train=True, download=True, transform=img_transforms)\n",
    "    test = torchvision.datasets.MNIST(root='.', train=False, download=True, transform=img_transforms)\n",
    "elif dataset_name == 'CIFAR10':\n",
    "    train = torchvision.datasets.CIFAR10(root='.', train=True, download=True, transform=img_transforms)\n",
    "    test = torchvision.datasets.CIFAR10(root='.', train=False, download=True, transform=img_transforms)"
   ],
   "metadata": {
    "collapsed": false,
    "ExecuteTime": {
     "end_time": "2024-04-18T06:24:03.392208Z",
     "start_time": "2024-04-18T06:24:01.814712Z"
    }
   },
   "id": "1684f02abe4e4add",
   "execution_count": 156
  },
  {
   "cell_type": "code",
   "outputs": [
    {
     "name": "stdout",
     "output_type": "stream",
     "text": [
      "Trainer configs: \n",
      "\n",
      "  arch_name: VGG11Net3D\n",
      "  optimizer_name: SGD\n",
      "  max_epoc: 20\n",
      "  lr: 0.01\n",
      "  momentum: 0.9\n",
      "  weight_decay: 0.0\n"
     ]
    }
   ],
   "source": [
    "trainer = BasicTrainer(exper_configs['architecture'], device, exper_configs['trainer_args'])"
   ],
   "metadata": {
    "collapsed": false,
    "ExecuteTime": {
     "end_time": "2024-04-18T06:24:04.380348Z",
     "start_time": "2024-04-18T06:24:04.371187Z"
    }
   },
   "id": "307e38acf293b83c",
   "execution_count": 157
  },
  {
   "cell_type": "markdown",
   "source": [
    "# Start Training"
   ],
   "metadata": {
    "collapsed": false
   },
   "id": "dcd34c8f4fd6c70a"
  },
  {
   "cell_type": "code",
   "outputs": [
    {
     "name": "stdout",
     "output_type": "stream",
     "text": [
      "Train size (80.0%): 40000, Val size (20.0%): 10000\n",
      "\tTraining set 80 has instances\n",
      "\tTest_loader set 20 has instances\n",
      "VGG11Net3D initialized with params: \n",
      " {'alpha': 0.5, 'leak': 0.01}\n",
      "Model VGG11Net3D loaded, VGG11Net3D(\n",
      "  (convs_layers): Sequential(\n",
      "    (0): Conv2d(3, 64, kernel_size=(3, 3), stride=(1, 1), padding=(1, 1))\n",
      "    (1): BatchNorm2d(64, eps=1e-05, momentum=0.1, affine=True, track_running_stats=True)\n",
      "    (2): LeakyADA(leak=0.01, alpha=0.5)\n",
      "    (3): MaxPool2d(kernel_size=2, stride=2, padding=0, dilation=1, ceil_mode=False)\n",
      "    (4): Conv2d(64, 128, kernel_size=(3, 3), stride=(1, 1), padding=(1, 1))\n",
      "    (5): BatchNorm2d(128, eps=1e-05, momentum=0.1, affine=True, track_running_stats=True)\n",
      "    (6): LeakyADA(leak=0.01, alpha=0.5)\n",
      "    (7): MaxPool2d(kernel_size=2, stride=2, padding=0, dilation=1, ceil_mode=False)\n",
      "    (8): Conv2d(128, 256, kernel_size=(3, 3), stride=(1, 1), padding=(1, 1))\n",
      "    (9): BatchNorm2d(256, eps=1e-05, momentum=0.1, affine=True, track_running_stats=True)\n",
      "    (10): LeakyADA(leak=0.01, alpha=0.5)\n",
      "    (11): Conv2d(256, 256, kernel_size=(3, 3), stride=(1, 1), padding=(1, 1))\n",
      "    (12): BatchNorm2d(256, eps=1e-05, momentum=0.1, affine=True, track_running_stats=True)\n",
      "    (13): LeakyADA(leak=0.01, alpha=0.5)\n",
      "    (14): MaxPool2d(kernel_size=2, stride=2, padding=0, dilation=1, ceil_mode=False)\n",
      "    (15): Conv2d(256, 512, kernel_size=(3, 3), stride=(1, 1), padding=(1, 1))\n",
      "    (16): BatchNorm2d(512, eps=1e-05, momentum=0.1, affine=True, track_running_stats=True)\n",
      "    (17): LeakyADA(leak=0.01, alpha=0.5)\n",
      "    (18): Conv2d(512, 512, kernel_size=(3, 3), stride=(1, 1), padding=(1, 1))\n",
      "    (19): BatchNorm2d(512, eps=1e-05, momentum=0.1, affine=True, track_running_stats=True)\n",
      "    (20): LeakyADA(leak=0.01, alpha=0.5)\n",
      "    (21): MaxPool2d(kernel_size=2, stride=2, padding=0, dilation=1, ceil_mode=False)\n",
      "    (22): Conv2d(512, 512, kernel_size=(3, 3), stride=(1, 1), padding=(1, 1))\n",
      "    (23): BatchNorm2d(512, eps=1e-05, momentum=0.1, affine=True, track_running_stats=True)\n",
      "    (24): LeakyADA(leak=0.01, alpha=0.5)\n",
      "    (25): Conv2d(512, 512, kernel_size=(3, 3), stride=(1, 1), padding=(1, 1))\n",
      "    (26): BatchNorm2d(512, eps=1e-05, momentum=0.1, affine=True, track_running_stats=True)\n",
      "    (27): LeakyADA(leak=0.01, alpha=0.5)\n",
      "    (28): MaxPool2d(kernel_size=2, stride=2, padding=0, dilation=1, ceil_mode=False)\n",
      "  )\n",
      "  (classifier): Sequential(\n",
      "    (0): Linear(in_features=512, out_features=4096, bias=True)\n",
      "    (1): LeakyADA(leak=0.01, alpha=0.5)\n",
      "    (2): Dropout(p=0.5, inplace=False)\n",
      "    (3): Linear(in_features=4096, out_features=4096, bias=True)\n",
      "    (4): LeakyADA(leak=0.01, alpha=0.5)\n",
      "    (5): Dropout(p=0.5, inplace=False)\n",
      "    (6): Linear(in_features=4096, out_features=10, bias=True)\n",
      "  )\n",
      ")\n",
      "[Epoch 0]\n",
      "\tBatch 1 loss: 2.3057050704956055\n",
      "\tBatch 11 loss: 2.301828622817993\n",
      "\tBatch 21 loss: 2.2890474796295166\n",
      "\tBatch 31 loss: 2.247871160507202\n",
      "\tBatch 41 loss: 2.173891305923462\n",
      "\tBatch 51 loss: 2.0543174743652344\n",
      "\tBatch 61 loss: 1.9896384477615356\n",
      "\tBatch 71 loss: 1.8453222513198853\n",
      "\tLoss => Train loss: 2.13, Test loss: 2.00, Train Acc: 0.20, Test Acc: 0.25\n",
      "[Epoch 1]\n",
      "\tBatch 1 loss: 1.7614761590957642\n",
      "\tBatch 11 loss: 1.7996878623962402\n",
      "\tBatch 21 loss: 1.6690036058425903\n",
      "\tBatch 31 loss: 1.6581116914749146\n",
      "\tBatch 41 loss: 1.6064443588256836\n",
      "\tBatch 51 loss: 1.6355092525482178\n",
      "\tBatch 61 loss: 1.6015342473983765\n",
      "\tBatch 71 loss: 1.5667147636413574\n",
      "\tLoss => Train loss: 1.64, Test loss: 1.93, Train Acc: 0.37, Test Acc: 0.32\n",
      "[Epoch 2]\n",
      "\tBatch 1 loss: 1.420980453491211\n",
      "\tBatch 11 loss: 1.4035340547561646\n",
      "\tBatch 21 loss: 1.431885004043579\n",
      "\tBatch 31 loss: 1.4569426774978638\n",
      "\tBatch 41 loss: 1.3223166465759277\n",
      "\tBatch 51 loss: 1.3800315856933594\n",
      "\tBatch 61 loss: 1.4528701305389404\n",
      "\tBatch 71 loss: 1.2595142126083374\n",
      "\tLoss => Train loss: 1.38, Test loss: 1.31, Train Acc: 0.48, Test Acc: 0.51\n",
      "[Epoch 3]\n",
      "\tBatch 1 loss: 1.2452455759048462\n",
      "\tBatch 11 loss: 1.2820874452590942\n",
      "\tBatch 21 loss: 1.1859184503555298\n",
      "\tBatch 31 loss: 1.1931101083755493\n",
      "\tBatch 41 loss: 1.1899683475494385\n",
      "\tBatch 51 loss: 1.1949727535247803\n",
      "\tBatch 61 loss: 1.162929892539978\n",
      "\tBatch 71 loss: 1.1890743970870972\n",
      "\tLoss => Train loss: 1.20, Test loss: 1.34, Train Acc: 0.56, Test Acc: 0.52\n",
      "[Epoch 4]\n",
      "\tBatch 1 loss: 1.1478325128555298\n",
      "\tBatch 11 loss: 1.0427387952804565\n",
      "\tBatch 21 loss: 1.0674856901168823\n",
      "\tBatch 31 loss: 1.037133812904358\n",
      "\tBatch 41 loss: 1.064123272895813\n",
      "\tBatch 51 loss: 1.1086993217468262\n",
      "\tBatch 61 loss: 1.0525085926055908\n",
      "\tBatch 71 loss: 1.0921990871429443\n",
      "\tLoss => Train loss: 1.07, Test loss: 1.18, Train Acc: 0.62, Test Acc: 0.58\n",
      "[Epoch 5]\n",
      "\tBatch 1 loss: 0.9917251467704773\n",
      "\tBatch 11 loss: 0.9562264680862427\n",
      "\tBatch 21 loss: 0.9762904644012451\n",
      "\tBatch 31 loss: 0.9105038046836853\n",
      "\tBatch 41 loss: 0.9546809196472168\n",
      "\tBatch 51 loss: 0.942539632320404\n",
      "\tBatch 61 loss: 1.002402663230896\n",
      "\tBatch 71 loss: 0.8938966989517212\n",
      "\tLoss => Train loss: 0.95, Test loss: 1.32, Train Acc: 0.66, Test Acc: 0.55\n",
      "[Epoch 6]\n",
      "\tBatch 1 loss: 0.7934587597846985\n",
      "\tBatch 11 loss: 0.8622292280197144\n",
      "\tBatch 21 loss: 0.8660744428634644\n",
      "\tBatch 31 loss: 0.8199098110198975\n",
      "\tBatch 41 loss: 0.7998067736625671\n",
      "\tBatch 51 loss: 0.8812445998191833\n",
      "\tBatch 61 loss: 0.8144393563270569\n",
      "\tBatch 71 loss: 0.9943906664848328\n",
      "\tLoss => Train loss: 0.85, Test loss: 1.04, Train Acc: 0.70, Test Acc: 0.63\n",
      "[Epoch 7]\n",
      "\tBatch 1 loss: 0.7112945318222046\n",
      "\tBatch 11 loss: 0.6772310733795166\n",
      "\tBatch 21 loss: 0.7954856157302856\n",
      "\tBatch 31 loss: 0.7448967099189758\n",
      "\tBatch 41 loss: 0.7755299806594849\n",
      "\tBatch 51 loss: 0.789686918258667\n",
      "\tBatch 61 loss: 0.7876481413841248\n",
      "\tBatch 71 loss: 0.7790573835372925\n",
      "\tLoss => Train loss: 0.77, Test loss: 1.45, Train Acc: 0.73, Test Acc: 0.55\n",
      "[Epoch 8]\n",
      "\tBatch 1 loss: 0.7096115350723267\n",
      "\tBatch 11 loss: 0.6452422142028809\n",
      "\tBatch 21 loss: 0.6406586170196533\n",
      "\tBatch 31 loss: 0.6858420372009277\n",
      "\tBatch 41 loss: 0.626664936542511\n",
      "\tBatch 51 loss: 0.6355947256088257\n",
      "\tBatch 61 loss: 0.6791006326675415\n",
      "\tBatch 71 loss: 0.7070794701576233\n",
      "\tLoss => Train loss: 0.69, Test loss: 1.21, Train Acc: 0.75, Test Acc: 0.60\n",
      "[Epoch 9]\n",
      "\tBatch 1 loss: 0.6336661577224731\n",
      "\tBatch 11 loss: 0.5356191992759705\n",
      "\tBatch 21 loss: 0.5627176761627197\n",
      "\tBatch 31 loss: 0.5647279620170593\n",
      "\tBatch 41 loss: 0.5172811150550842\n",
      "\tBatch 51 loss: 0.5671162605285645\n",
      "\tBatch 61 loss: 0.5767722725868225\n",
      "\tBatch 71 loss: 0.5690991878509521\n",
      "\tLoss => Train loss: 0.59, Test loss: 1.85, Train Acc: 0.79, Test Acc: 0.50\n",
      "[Epoch 10]\n",
      "\tBatch 1 loss: 0.5214047431945801\n",
      "\tBatch 11 loss: 0.5576062202453613\n",
      "\tBatch 21 loss: 0.5262850522994995\n",
      "\tBatch 31 loss: 0.5544581413269043\n",
      "\tBatch 41 loss: 0.5059290528297424\n",
      "\tBatch 51 loss: 0.5134228467941284\n",
      "\tBatch 61 loss: 0.5768435597419739\n",
      "\tBatch 71 loss: 0.580917239189148\n",
      "\tLoss => Train loss: 0.54, Test loss: 1.39, Train Acc: 0.81, Test Acc: 0.60\n",
      "[Epoch 11]\n",
      "\tBatch 1 loss: 0.39240172505378723\n",
      "\tBatch 11 loss: 0.40960144996643066\n",
      "\tBatch 21 loss: 0.3886372745037079\n",
      "\tBatch 31 loss: 0.43473902344703674\n",
      "\tBatch 41 loss: 0.47746020555496216\n",
      "\tBatch 51 loss: 0.5554347634315491\n",
      "\tBatch 61 loss: 0.4762333631515503\n",
      "\tBatch 71 loss: 0.551257312297821\n",
      "\tLoss => Train loss: 0.47, Test loss: 1.10, Train Acc: 0.83, Test Acc: 0.67\n",
      "[Epoch 12]\n",
      "\tBatch 1 loss: 0.4229799211025238\n",
      "\tBatch 11 loss: 0.3662170469760895\n",
      "\tBatch 21 loss: 0.38820555806159973\n",
      "\tBatch 31 loss: 0.4135664403438568\n",
      "\tBatch 41 loss: 0.4843011796474457\n",
      "\tBatch 51 loss: 0.4067601263523102\n",
      "\tBatch 61 loss: 0.4234530031681061\n",
      "\tBatch 71 loss: 0.4953949451446533\n",
      "\tLoss => Train loss: 0.40, Test loss: 1.08, Train Acc: 0.86, Test Acc: 0.67\n",
      "[Epoch 13]\n",
      "\tBatch 1 loss: 0.3266012370586395\n",
      "\tBatch 11 loss: 0.301168829202652\n",
      "\tBatch 21 loss: 0.2945002317428589\n",
      "\tBatch 31 loss: 0.36858484148979187\n",
      "\tBatch 41 loss: 0.38939666748046875\n",
      "\tBatch 51 loss: 0.3163759410381317\n",
      "\tBatch 61 loss: 0.36197927594184875\n",
      "\tBatch 71 loss: 0.3820864260196686\n",
      "\tLoss => Train loss: 0.36, Test loss: 1.04, Train Acc: 0.87, Test Acc: 0.69\n",
      "[Epoch 14]\n",
      "\tBatch 1 loss: 0.24064473807811737\n",
      "\tBatch 11 loss: 0.27942201495170593\n",
      "\tBatch 21 loss: 0.369904488325119\n",
      "\tBatch 31 loss: 0.3773408830165863\n",
      "\tBatch 41 loss: 0.29617878794670105\n",
      "\tBatch 51 loss: 0.41463467478752136\n",
      "\tBatch 61 loss: 0.381740540266037\n",
      "\tBatch 71 loss: 0.3054482638835907\n",
      "\tLoss => Train loss: 0.32, Test loss: 1.54, Train Acc: 0.89, Test Acc: 0.63\n",
      "[Epoch 15]\n",
      "\tBatch 1 loss: 0.23689322173595428\n",
      "\tBatch 11 loss: 0.17961734533309937\n",
      "\tBatch 21 loss: 0.20769277215003967\n",
      "\tBatch 31 loss: 0.19698967039585114\n",
      "\tBatch 41 loss: 0.2513761520385742\n",
      "\tBatch 51 loss: 0.2683303952217102\n",
      "\tBatch 61 loss: 0.25962698459625244\n",
      "\tBatch 71 loss: 0.3024064898490906\n",
      "\tLoss => Train loss: 0.27, Test loss: 1.35, Train Acc: 0.91, Test Acc: 0.66\n",
      "[Epoch 16]\n",
      "\tBatch 1 loss: 0.2705756425857544\n",
      "\tBatch 11 loss: 0.2802666127681732\n",
      "\tBatch 21 loss: 0.24023184180259705\n",
      "\tBatch 31 loss: 0.25019580125808716\n",
      "\tBatch 41 loss: 0.18907292187213898\n",
      "\tBatch 51 loss: 0.259872704744339\n",
      "\tBatch 61 loss: 0.32906481623649597\n",
      "\tBatch 71 loss: 0.2585334777832031\n",
      "\tLoss => Train loss: 0.25, Test loss: 1.14, Train Acc: 0.91, Test Acc: 0.70\n",
      "[Epoch 17]\n",
      "\tBatch 1 loss: 0.1540193408727646\n",
      "\tBatch 11 loss: 0.18690018355846405\n",
      "\tBatch 21 loss: 0.1829109936952591\n",
      "\tBatch 31 loss: 0.16628600656986237\n",
      "\tBatch 41 loss: 0.22846251726150513\n",
      "\tBatch 51 loss: 0.2490009218454361\n",
      "\tBatch 61 loss: 0.21470050513744354\n",
      "\tBatch 71 loss: 0.2062591165304184\n",
      "\tLoss => Train loss: 0.22, Test loss: 1.34, Train Acc: 0.92, Test Acc: 0.66\n",
      "[Epoch 18]\n",
      "\tBatch 1 loss: 0.23179015517234802\n",
      "\tBatch 11 loss: 0.16088560223579407\n",
      "\tBatch 21 loss: 0.20253100991249084\n",
      "\tBatch 31 loss: 0.1713676154613495\n",
      "\tBatch 41 loss: 0.1940971165895462\n",
      "\tBatch 51 loss: 0.20110514760017395\n",
      "\tBatch 61 loss: 0.19923712313175201\n",
      "\tBatch 71 loss: 0.18300072848796844\n",
      "\tLoss => Train loss: 0.19, Test loss: 1.24, Train Acc: 0.94, Test Acc: 0.70\n",
      "[Epoch 19]\n",
      "\tBatch 1 loss: 0.19744981825351715\n",
      "\tBatch 11 loss: 0.19989243149757385\n",
      "\tBatch 21 loss: 0.15668514370918274\n",
      "\tBatch 31 loss: 0.14673197269439697\n",
      "\tBatch 41 loss: 0.19204334914684296\n",
      "\tBatch 51 loss: 0.1683197319507599\n",
      "\tBatch 61 loss: 0.16991810500621796\n",
      "\tBatch 71 loss: 0.21906277537345886\n",
      "\tLoss => Train loss: 0.17, Test loss: 1.63, Train Acc: 0.94, Test Acc: 0.64\n"
     ]
    },
    {
     "data": {
      "text/plain": "{'train_losses': [2.1287788048386576,\n  1.6431415751576424,\n  1.382928739488125,\n  1.2003986924886703,\n  1.0664662666618825,\n  0.9463176004588604,\n  0.8509833894670009,\n  0.7701581947505474,\n  0.6851403206586838,\n  0.5942667555063963,\n  0.5383497282862664,\n  0.4707341928035021,\n  0.4031831033527851,\n  0.36029103957116604,\n  0.32421752959489825,\n  0.26635441593825815,\n  0.24841787423938513,\n  0.21827750895172357,\n  0.18635294279083608,\n  0.16831674175336958],\n 'val_losses': [2.0044864892959593,\n  1.9284984350204468,\n  1.3059708654880524,\n  1.3404418051242828,\n  1.1832702338695527,\n  1.3200978934764862,\n  1.0423376858234406,\n  1.4547173857688904,\n  1.2096630573272704,\n  1.8541016697883606,\n  1.3905055284500123,\n  1.103425893187523,\n  1.0804421037435532,\n  1.0407180577516555,\n  1.5370698153972626,\n  1.3477886080741883,\n  1.139292550086975,\n  1.3354280471801758,\n  1.237307745218277,\n  1.632235723733902],\n 'train_acc': [tensor(0.1991),\n  tensor(0.3687),\n  tensor(0.4810),\n  tensor(0.5606),\n  tensor(0.6150),\n  tensor(0.6605),\n  tensor(0.6959),\n  tensor(0.7271),\n  tensor(0.7547),\n  tensor(0.7890),\n  tensor(0.8081),\n  tensor(0.8318),\n  tensor(0.8575),\n  tensor(0.8707),\n  tensor(0.8857),\n  tensor(0.9052),\n  tensor(0.9104),\n  tensor(0.9238),\n  tensor(0.9352),\n  tensor(0.9400)],\n 'val_acc': [tensor(0.2482),\n  tensor(0.3188),\n  tensor(0.5149),\n  tensor(0.5193),\n  tensor(0.5794),\n  tensor(0.5523),\n  tensor(0.6328),\n  tensor(0.5526),\n  tensor(0.6029),\n  tensor(0.4989),\n  tensor(0.6023),\n  tensor(0.6686),\n  tensor(0.6676),\n  tensor(0.6898),\n  tensor(0.6268),\n  tensor(0.6572),\n  tensor(0.6981),\n  tensor(0.6628),\n  tensor(0.7031),\n  tensor(0.6411)]}"
     },
     "execution_count": 158,
     "metadata": {},
     "output_type": "execute_result"
    }
   ],
   "source": [
    "model_args = exper_configs['model_args']\n",
    "trainer.train_model(model_args, train)\n"
   ],
   "metadata": {
    "collapsed": false,
    "ExecuteTime": {
     "end_time": "2024-04-18T06:33:50.767566Z",
     "start_time": "2024-04-18T06:24:06.828007Z"
    }
   },
   "id": "81e8530ed7313cef",
   "execution_count": 158
  },
  {
   "cell_type": "code",
   "outputs": [
    {
     "name": "stdout",
     "output_type": "stream",
     "text": [
      "Test Loss: 1.63, Accuracy: 0.6369000673294067\n"
     ]
    },
    {
     "data": {
      "text/plain": "{'test_loss': 1.6344910383224487, 'test_acc': tensor(0.6369)}"
     },
     "execution_count": 159,
     "metadata": {},
     "output_type": "execute_result"
    }
   ],
   "source": [
    "\n",
    "trainer.test_model(test)\n"
   ],
   "metadata": {
    "collapsed": false,
    "ExecuteTime": {
     "end_time": "2024-04-18T06:53:45.082465Z",
     "start_time": "2024-04-18T06:53:38.607525Z"
    }
   },
   "id": "7952396f624b6152",
   "execution_count": 159
  },
  {
   "cell_type": "markdown",
   "source": [
    "# Register hook"
   ],
   "metadata": {
    "collapsed": false
   },
   "id": "9edba49685ae1551"
  },
  {
   "cell_type": "code",
   "outputs": [],
   "source": [
    "activations = []\n",
    "def hook(model, input, output):\n",
    "    activations.append(output)"
   ],
   "metadata": {
    "collapsed": false,
    "ExecuteTime": {
     "end_time": "2024-04-18T06:53:47.732166Z",
     "start_time": "2024-04-18T06:53:47.719638Z"
    }
   },
   "id": "d5bb19452266d2de",
   "execution_count": 160
  },
  {
   "cell_type": "code",
   "outputs": [
    {
     "name": "stdout",
     "output_type": "stream",
     "text": [
      "VGG11Net(\n",
      "  (convs_layers): Sequential(\n",
      "    (0): Conv2d(1, 64, kernel_size=(3, 3), stride=(1, 1), padding=(1, 1))\n",
      "    (1): BatchNorm2d(64, eps=1e-05, momentum=0.1, affine=True, track_running_stats=True)\n",
      "    (2): FReLU(inplace=True, bias=(torch.Size([1])))\n",
      "    (3): MaxPool2d(kernel_size=2, stride=2, padding=0, dilation=1, ceil_mode=False)\n",
      "    (4): Conv2d(64, 128, kernel_size=(3, 3), stride=(1, 1), padding=(1, 1))\n",
      "    (5): BatchNorm2d(128, eps=1e-05, momentum=0.1, affine=True, track_running_stats=True)\n",
      "    (6): FReLU(inplace=True, bias=(torch.Size([1])))\n",
      "    (7): MaxPool2d(kernel_size=2, stride=2, padding=0, dilation=1, ceil_mode=False)\n",
      "    (8): Conv2d(128, 256, kernel_size=(3, 3), stride=(1, 1), padding=(1, 1))\n",
      "    (9): BatchNorm2d(256, eps=1e-05, momentum=0.1, affine=True, track_running_stats=True)\n",
      "    (10): FReLU(inplace=True, bias=(torch.Size([1])))\n",
      "    (11): Conv2d(256, 256, kernel_size=(3, 3), stride=(1, 1), padding=(1, 1))\n",
      "    (12): BatchNorm2d(256, eps=1e-05, momentum=0.1, affine=True, track_running_stats=True)\n",
      "    (13): FReLU(inplace=True, bias=(torch.Size([1])))\n",
      "    (14): MaxPool2d(kernel_size=2, stride=2, padding=0, dilation=1, ceil_mode=False)\n",
      "    (15): Conv2d(256, 512, kernel_size=(3, 3), stride=(1, 1), padding=(1, 1))\n",
      "    (16): BatchNorm2d(512, eps=1e-05, momentum=0.1, affine=True, track_running_stats=True)\n",
      "    (17): FReLU(inplace=True, bias=(torch.Size([1])))\n",
      "    (18): Conv2d(512, 512, kernel_size=(3, 3), stride=(1, 1), padding=(1, 1))\n",
      "    (19): BatchNorm2d(512, eps=1e-05, momentum=0.1, affine=True, track_running_stats=True)\n",
      "    (20): FReLU(inplace=True, bias=(torch.Size([1])))\n",
      "    (21): MaxPool2d(kernel_size=2, stride=2, padding=0, dilation=1, ceil_mode=False)\n",
      "    (22): Conv2d(512, 512, kernel_size=(3, 3), stride=(1, 1), padding=(1, 1))\n",
      "    (23): BatchNorm2d(512, eps=1e-05, momentum=0.1, affine=True, track_running_stats=True)\n",
      "    (24): FReLU(inplace=True, bias=(torch.Size([1])))\n",
      "    (25): Conv2d(512, 512, kernel_size=(3, 3), stride=(1, 1), padding=(1, 1))\n",
      "    (26): BatchNorm2d(512, eps=1e-05, momentum=0.1, affine=True, track_running_stats=True)\n",
      "    (27): FReLU(inplace=True, bias=(torch.Size([1])))\n",
      "    (28): MaxPool2d(kernel_size=2, stride=2, padding=0, dilation=1, ceil_mode=False)\n",
      "  )\n",
      "  (classifier): Sequential(\n",
      "    (0): Linear(in_features=512, out_features=4096, bias=True)\n",
      "    (1): FReLU(inplace=True, bias=(torch.Size([1])))\n",
      "    (2): Dropout(p=0.5, inplace=False)\n",
      "    (3): Linear(in_features=4096, out_features=4096, bias=True)\n",
      "    (4): FReLU(inplace=True, bias=(torch.Size([1])))\n",
      "    (5): Dropout(p=0.5, inplace=False)\n",
      "    (6): Linear(in_features=4096, out_features=10, bias=True)\n",
      "  )\n",
      ")\n"
     ]
    }
   ],
   "source": [],
   "metadata": {
    "collapsed": false,
    "ExecuteTime": {
     "end_time": "2024-04-18T03:25:34.555570Z",
     "start_time": "2024-04-18T03:25:34.518128Z"
    }
   },
   "id": "3e7358a379a5f49c",
   "execution_count": 32
  },
  {
   "cell_type": "code",
   "outputs": [
    {
     "data": {
      "text/plain": "VGG11Net3D(\n  (convs_layers): Sequential(\n    (0): Conv2d(3, 64, kernel_size=(3, 3), stride=(1, 1), padding=(1, 1))\n    (1): BatchNorm2d(64, eps=1e-05, momentum=0.1, affine=True, track_running_stats=True)\n    (2): LeakyADA(leak=0.01, alpha=0.5)\n    (3): MaxPool2d(kernel_size=2, stride=2, padding=0, dilation=1, ceil_mode=False)\n    (4): Conv2d(64, 128, kernel_size=(3, 3), stride=(1, 1), padding=(1, 1))\n    (5): BatchNorm2d(128, eps=1e-05, momentum=0.1, affine=True, track_running_stats=True)\n    (6): LeakyADA(leak=0.01, alpha=0.5)\n    (7): MaxPool2d(kernel_size=2, stride=2, padding=0, dilation=1, ceil_mode=False)\n    (8): Conv2d(128, 256, kernel_size=(3, 3), stride=(1, 1), padding=(1, 1))\n    (9): BatchNorm2d(256, eps=1e-05, momentum=0.1, affine=True, track_running_stats=True)\n    (10): LeakyADA(leak=0.01, alpha=0.5)\n    (11): Conv2d(256, 256, kernel_size=(3, 3), stride=(1, 1), padding=(1, 1))\n    (12): BatchNorm2d(256, eps=1e-05, momentum=0.1, affine=True, track_running_stats=True)\n    (13): LeakyADA(leak=0.01, alpha=0.5)\n    (14): MaxPool2d(kernel_size=2, stride=2, padding=0, dilation=1, ceil_mode=False)\n    (15): Conv2d(256, 512, kernel_size=(3, 3), stride=(1, 1), padding=(1, 1))\n    (16): BatchNorm2d(512, eps=1e-05, momentum=0.1, affine=True, track_running_stats=True)\n    (17): LeakyADA(leak=0.01, alpha=0.5)\n    (18): Conv2d(512, 512, kernel_size=(3, 3), stride=(1, 1), padding=(1, 1))\n    (19): BatchNorm2d(512, eps=1e-05, momentum=0.1, affine=True, track_running_stats=True)\n    (20): LeakyADA(leak=0.01, alpha=0.5)\n    (21): MaxPool2d(kernel_size=2, stride=2, padding=0, dilation=1, ceil_mode=False)\n    (22): Conv2d(512, 512, kernel_size=(3, 3), stride=(1, 1), padding=(1, 1))\n    (23): BatchNorm2d(512, eps=1e-05, momentum=0.1, affine=True, track_running_stats=True)\n    (24): LeakyADA(leak=0.01, alpha=0.5)\n    (25): Conv2d(512, 512, kernel_size=(3, 3), stride=(1, 1), padding=(1, 1))\n    (26): BatchNorm2d(512, eps=1e-05, momentum=0.1, affine=True, track_running_stats=True)\n    (27): LeakyADA(leak=0.01, alpha=0.5)\n    (28): MaxPool2d(kernel_size=2, stride=2, padding=0, dilation=1, ceil_mode=False)\n  )\n  (classifier): Sequential(\n    (0): Linear(in_features=512, out_features=4096, bias=True)\n    (1): LeakyADA(leak=0.01, alpha=0.5)\n    (2): Dropout(p=0.5, inplace=False)\n    (3): Linear(in_features=4096, out_features=4096, bias=True)\n    (4): LeakyADA(leak=0.01, alpha=0.5)\n    (5): Dropout(p=0.5, inplace=False)\n    (6): Linear(in_features=4096, out_features=10, bias=True)\n  )\n)"
     },
     "execution_count": 161,
     "metadata": {},
     "output_type": "execute_result"
    }
   ],
   "source": [
    "model = trainer.get_model()\n",
    "model.eval()\n",
    "#"
   ],
   "metadata": {
    "collapsed": false,
    "ExecuteTime": {
     "end_time": "2024-04-18T06:53:49.635420Z",
     "start_time": "2024-04-18T06:53:49.630050Z"
    }
   },
   "id": "91519cb30d51f75a",
   "execution_count": 161
  },
  {
   "cell_type": "code",
   "outputs": [
    {
     "name": "stdout",
     "output_type": "stream",
     "text": [
      "LeakyADA(leak=0.01, alpha=0.5)\n"
     ]
    }
   ],
   "source": [
    "print(model.convs_layers[2])"
   ],
   "metadata": {
    "collapsed": false,
    "ExecuteTime": {
     "end_time": "2024-04-18T06:53:53.745126Z",
     "start_time": "2024-04-18T06:53:53.734492Z"
    }
   },
   "id": "f83cedc7ba089526",
   "execution_count": 162
  },
  {
   "cell_type": "code",
   "outputs": [],
   "source": [
    "# First Activation Output\n",
    "hook1 = model.convs_layers[2].register_forward_hook(hook)\n",
    "\n",
    "# Last Activation Output\n",
    "hook_last = model.convs_layers[27].register_forward_hook(hook)\n"
   ],
   "metadata": {
    "collapsed": false,
    "ExecuteTime": {
     "end_time": "2024-04-18T06:53:55.800520Z",
     "start_time": "2024-04-18T06:53:55.793472Z"
    }
   },
   "id": "53d949857516ad93",
   "execution_count": 163
  },
  {
   "cell_type": "code",
   "outputs": [],
   "source": [
    "# hook1.remove()\n",
    "#hook_last.remove()"
   ],
   "metadata": {
    "collapsed": false,
    "ExecuteTime": {
     "end_time": "2024-04-18T04:08:30.916339Z",
     "start_time": "2024-04-18T04:08:30.913038Z"
    }
   },
   "id": "f71a30229998f78d",
   "execution_count": 39
  },
  {
   "cell_type": "markdown",
   "source": [
    "## Plot Features"
   ],
   "metadata": {
    "collapsed": false
   },
   "id": "221f5227de483482"
  },
  {
   "cell_type": "code",
   "outputs": [
    {
     "name": "stdout",
     "output_type": "stream",
     "text": [
      "tensor([[[0.2314, 0.1686, 0.1961,  ..., 0.6196, 0.5961, 0.5804],\n",
      "         [0.0627, 0.0000, 0.0706,  ..., 0.4824, 0.4667, 0.4784],\n",
      "         [0.0980, 0.0627, 0.1922,  ..., 0.4627, 0.4706, 0.4275],\n",
      "         ...,\n",
      "         [0.8157, 0.7882, 0.7765,  ..., 0.6275, 0.2196, 0.2078],\n",
      "         [0.7059, 0.6784, 0.7294,  ..., 0.7216, 0.3804, 0.3255],\n",
      "         [0.6941, 0.6588, 0.7020,  ..., 0.8471, 0.5922, 0.4824]],\n",
      "\n",
      "        [[0.2431, 0.1804, 0.1882,  ..., 0.5176, 0.4902, 0.4863],\n",
      "         [0.0784, 0.0000, 0.0314,  ..., 0.3451, 0.3255, 0.3412],\n",
      "         [0.0941, 0.0275, 0.1059,  ..., 0.3294, 0.3294, 0.2863],\n",
      "         ...,\n",
      "         [0.6667, 0.6000, 0.6314,  ..., 0.5216, 0.1216, 0.1333],\n",
      "         [0.5451, 0.4824, 0.5647,  ..., 0.5804, 0.2431, 0.2078],\n",
      "         [0.5647, 0.5059, 0.5569,  ..., 0.7216, 0.4627, 0.3608]],\n",
      "\n",
      "        [[0.2471, 0.1765, 0.1686,  ..., 0.4235, 0.4000, 0.4039],\n",
      "         [0.0784, 0.0000, 0.0000,  ..., 0.2157, 0.1961, 0.2235],\n",
      "         [0.0824, 0.0000, 0.0314,  ..., 0.1961, 0.1961, 0.1647],\n",
      "         ...,\n",
      "         [0.3765, 0.1333, 0.1020,  ..., 0.2745, 0.0275, 0.0784],\n",
      "         [0.3765, 0.1647, 0.1176,  ..., 0.3686, 0.1333, 0.1333],\n",
      "         [0.4549, 0.3686, 0.3412,  ..., 0.5490, 0.3294, 0.2824]]])\n",
      "6\n"
     ]
    }
   ],
   "source": [
    "img = train[0][0]\n",
    "label = train[0][1]\n",
    "print(img)\n",
    "print(label)\n",
    "\n",
    "img = img.to(device)\n"
   ],
   "metadata": {
    "collapsed": false,
    "ExecuteTime": {
     "end_time": "2024-04-18T06:53:57.762900Z",
     "start_time": "2024-04-18T06:53:57.750636Z"
    }
   },
   "id": "28c91daa2ddf70e2",
   "execution_count": 164
  },
  {
   "cell_type": "code",
   "outputs": [
    {
     "data": {
      "text/plain": "<matplotlib.image.AxesImage at 0x32f322460>"
     },
     "execution_count": 91,
     "metadata": {},
     "output_type": "execute_result"
    },
    {
     "data": {
      "text/plain": "<Figure size 640x480 with 1 Axes>",
      "image/png": "[encoded data removed]"
     },
     "metadata": {},
     "output_type": "display_data"
    }
   ],
   "source": [
    "img_show = img.permute(1, 2, 0)\n",
    "plt.imshow(img_show.cpu().detach().numpy())"
   ],
   "metadata": {
    "collapsed": false,
    "ExecuteTime": {
     "end_time": "2024-04-18T05:07:30.178816Z",
     "start_time": "2024-04-18T05:07:29.971821Z"
    }
   },
   "id": "6e3cab2026df7acb",
   "execution_count": 91
  },
  {
   "cell_type": "code",
   "outputs": [
    {
     "name": "stdout",
     "output_type": "stream",
     "text": [
      "torch.Size([1, 3, 32, 32])\n"
     ]
    }
   ],
   "source": [
    "input_batch = img.unsqueeze(0)\n",
    "input_batch = input_batch.to(device)\n",
    "print(input_batch.shape)"
   ],
   "metadata": {
    "collapsed": false,
    "ExecuteTime": {
     "end_time": "2024-04-18T06:54:00.463093Z",
     "start_time": "2024-04-18T06:54:00.457068Z"
    }
   },
   "id": "5f7ce458b2143f98",
   "execution_count": 165
  },
  {
   "cell_type": "code",
   "outputs": [],
   "source": [
    "predict = model(input_batch)"
   ],
   "metadata": {
    "collapsed": false,
    "ExecuteTime": {
     "end_time": "2024-04-18T06:54:09.442804Z",
     "start_time": "2024-04-18T06:54:08.523902Z"
    }
   },
   "id": "45e8d2d210e25a4a",
   "execution_count": 167
  },
  {
   "cell_type": "code",
   "outputs": [
    {
     "data": {
      "text/plain": "<Figure size 400x800 with 18 Axes>",
      "image/png": "[encoded data removed]"
     },
     "metadata": {},
     "output_type": "display_data"
    }
   ],
   "source": [
    "first_feature_maps = activations[0]\n",
    "third_feature_maps = activations[3]\n",
    "fifth_feature_maps = activations[5]\n",
    "\n",
    "# Number of feature maps to display per layer\n",
    "num_maps = 6\n",
    "\n",
    "# Set up figure and axes (3 rows for the first three feature maps, 3 columns for three layers)\n",
    "fig, axes = plt.subplots(num_maps, 3, figsize=(4, 8))  # rows, columns\n",
    "\n",
    "# Ensure we have enough feature maps to display\n",
    "num_first_maps = min(first_feature_maps.shape[1], num_maps)\n",
    "num_third_maps = min(third_feature_maps.shape[1], num_maps)\n",
    "num_fifth_maps = min(fifth_feature_maps.shape[1], num_maps)\n",
    "\n",
    "for i in range(num_maps):\n",
    "    \n",
    "    #     \n",
    "    # if i == 1:\n",
    "    #         axes[i, 1].set_title(f\"Layer 7\")\n",
    "    # \n",
    "    # if i == 11:\n",
    "    #     axes[i, 2].set_title(f\"Layer 11\")\n",
    "    #     \n",
    "        \n",
    "    if i < num_first_maps:\n",
    "        if i == 0 :\n",
    "            axes[i, 0].set_title(f\"Layer 3\")\n",
    "        axes[i, 0].imshow(first_feature_maps[0][i].cpu().detach().numpy())\n",
    "        \n",
    "        axes[i, 0].axis('off')\n",
    "\n",
    "    if i < num_third_maps:\n",
    "        if i == 0 :\n",
    "            axes[i, 1].set_title(f\"Layer 7\")\n",
    "        axes[i, 1].imshow(third_feature_maps[0][i].cpu().detach().numpy())\n",
    "        \n",
    "        axes[i, 1].axis('off')\n",
    "\n",
    "    if i < num_fifth_maps:\n",
    "        if i == 0 :\n",
    "            axes[i, 2].set_title(f\"Layer 11\")\n",
    "        axes[i, 2].imshow(fifth_feature_maps[0][i].cpu().detach().numpy())\n",
    "        axes[i, 2].axis('off')\n",
    "\n",
    "plt.tight_layout()\n",
    "plt.show()"
   ],
   "metadata": {
    "collapsed": false,
    "ExecuteTime": {
     "end_time": "2024-04-18T06:54:11.882281Z",
     "start_time": "2024-04-18T06:54:11.063850Z"
    }
   },
   "id": "a7cc7d48d1036d61",
   "execution_count": 168
  },
  {
   "cell_type": "code",
   "outputs": [
    {
     "name": "stdout",
     "output_type": "stream",
     "text": [
      "20\n",
      "first_feature_maps.shape: torch.Size([1, 64, 32, 32])\n",
      "third_feature_maps.shape: torch.Size([1, 128, 16, 16])\n",
      "last_feature_maps.shape: torch.Size([1, 256, 8, 8])\n",
      "torch.Size([64, 32, 32])\n"
     ]
    },
    {
     "data": {
      "text/plain": "<Figure size 800x800 with 6 Axes>",
      "image/png": "[encoded data removed]"
     },
     "metadata": {},
     "output_type": "display_data"
    }
   ],
   "source": [
    "print(len(activations))\n",
    "\n",
    "first_feature_maps = activations[0]\n",
    "third_feature_maps = activations[3]\n",
    "fifth_feature_maps = activations[5]\n",
    "\n",
    "print(f'first_feature_maps.shape: {first_feature_maps.shape}')\n",
    "print(f'third_feature_maps.shape: {third_feature_maps.shape}')\n",
    "print(f'last_feature_maps.shape: {fifth_feature_maps.shape}')\n",
    "\n",
    "\n",
    "image_feature_maps = first_feature_maps[0] # Batch 0\n",
    "print(image_feature_maps.shape)\n",
    "fig, axes = plt.subplots(6, 1, figsize=(8, 8))\n",
    "axes = axes.flatten()\n",
    "for i, ax in enumerate(axes):\n",
    "    ax.imshow(image_feature_maps[i].cpu().detach().numpy())\n",
    "    ax.axis('off')\n",
    "plt.tight_layout()\n",
    "plt.show()"
   ],
   "metadata": {
    "collapsed": false,
    "ExecuteTime": {
     "end_time": "2024-04-18T04:37:56.354828Z",
     "start_time": "2024-04-18T04:37:56.284345Z"
    }
   },
   "id": "4b25d5ec0a9553cf",
   "execution_count": 46
  }
 ],
 "metadata": {
  "kernelspec": {
   "display_name": "Python 3",
   "language": "python",
   "name": "python3"
  },
  "language_info": {
   "codemirror_mode": {
    "name": "ipython",
    "version": 2
   },
   "file_extension": ".py",
   "mimetype": "text/x-python",
   "name": "python",
   "nbconvert_exporter": "python",
   "pygments_lexer": "ipython2",
   "version": "2.7.6"
  }
 },
 "nbformat": 4,
 "nbformat_minor": 5
}
