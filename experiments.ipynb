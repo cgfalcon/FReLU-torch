{
 "cells": [
  {
   "cell_type": "markdown",
   "source": [
    "# Title"
   ],
   "metadata": {
    "collapsed": false
   },
   "id": "6ff988fc2e7e1592"
  },
  {
   "cell_type": "markdown",
   "source": [
    "## Install package"
   ],
   "metadata": {
    "collapsed": false
   },
   "id": "b3e56f1c3849978b"
  },
  {
   "cell_type": "code",
   "outputs": [],
   "source": [],
   "metadata": {
    "collapsed": false,
    "ExecuteTime": {
     "end_time": "2024-04-12T19:18:17.422166Z",
     "start_time": "2024-04-12T19:18:17.420184Z"
    }
   },
   "id": "20bede3122917be0",
   "execution_count": null
  },
  {
   "cell_type": "code",
   "outputs": [
    {
     "data": {
      "text/plain": "<module 'src' from '/Users/typeorigin/PythonProjects/FReLU-torch/src/__init__.py'>"
     },
     "execution_count": 1,
     "metadata": {},
     "output_type": "execute_result"
    }
   ],
   "source": [
    "import numpy as np\n",
    "import matplotlib.pyplot as plt\n",
    "import torchvision\n",
    "from torchvision import datasets, transforms\n",
    "import torch\n",
    "from torch.utils.data import Subset\n",
    "import torch.nn as nn\n",
    "\n",
    "import wandb\n",
    "\n",
    "import src\n",
    "import importlib\n",
    "from src import *\n",
    "\n",
    "importlib.reload(src)"
   ],
   "metadata": {
    "collapsed": false,
    "ExecuteTime": {
     "end_time": "2024-04-12T19:30:59.749625Z",
     "start_time": "2024-04-12T19:30:57.596933Z"
    }
   },
   "id": "2e202f672ca937e2",
   "execution_count": 1
  },
  {
   "cell_type": "code",
   "outputs": [
    {
     "name": "stderr",
     "output_type": "stream",
     "text": [
      "\u001B[34m\u001B[1mwandb\u001B[0m: Currently logged in as: \u001B[33mgangchu-cg\u001B[0m (\u001B[33mliight\u001B[0m). Use \u001B[1m`wandb login --relogin`\u001B[0m to force relogin\n"
     ]
    },
    {
     "data": {
      "text/plain": "True"
     },
     "execution_count": 2,
     "metadata": {},
     "output_type": "execute_result"
    }
   ],
   "source": [
    "wandb.login()"
   ],
   "metadata": {
    "collapsed": false,
    "ExecuteTime": {
     "end_time": "2024-04-12T19:18:20.293514Z",
     "start_time": "2024-04-12T19:18:19.465329Z"
    }
   },
   "id": "a42d619021e058d3",
   "execution_count": 2
  },
  {
   "cell_type": "markdown",
   "source": [
    "## Dataset"
   ],
   "metadata": {
    "collapsed": false
   },
   "id": "6ae8a18e936292c4"
  },
  {
   "cell_type": "code",
   "outputs": [
    {
     "name": "stdout",
     "output_type": "stream",
     "text": [
      "Training set 120 has instances\n",
      "test_loader set 20 has instances\n"
     ]
    }
   ],
   "source": [
    "img_transforms = transforms.Compose([\n",
    "    transforms.Resize((32, 32)),\n",
    "    transforms.ToTensor(),\n",
    "])\n",
    "\n",
    "\n",
    "def subset_of_minst(minst_dataset, subset_size=500):\n",
    "    \"\"\"Create subset for given dataset\"\"\"\n",
    "    digit_indices = {digit: [] for digit in range(10)}\n",
    "    \n",
    "    for idx, (_, target) in enumerate(minst_dataset):\n",
    "        digit_indices[target].append(idx)\n",
    "        \n",
    "    selected_indexes = []\n",
    "    for digit, indices in digit_indices.items():\n",
    "        selected_indexes.extend(np.random.choice(indices, subset_size, replace=False))\n",
    "    \n",
    "    sub_minst_set = Subset(minst_dataset, selected_indexes)\n",
    "    return sub_minst_set\n",
    "\n",
    "\n",
    "# Download dataset\n",
    "train_mnist = torchvision.datasets.MNIST(root='.', train=True, download=True, transform=img_transforms)\n",
    "test_mnist = torchvision.datasets.MNIST(root='.', train=False, download=True, transform=img_transforms)\n",
    "\n",
    "data_size = 1000\n",
    "train_subset = subset_of_minst(train_mnist, data_size)\n",
    "\n",
    "train_loader = torch.utils.data.DataLoader(train_mnist, \n",
    "                                           batch_size=500, shuffle=True)\n",
    "test_loader = torch.utils.data.DataLoader(test_mnist, \n",
    "                                          batch_size=500, shuffle=False)\n",
    "\n",
    "print(f'Training set {len(train_loader)} has instances')\n",
    "print(f'test_loader set {len(test_loader)} has instances')"
   ],
   "metadata": {
    "collapsed": false,
    "ExecuteTime": {
     "end_time": "2024-04-12T19:31:04.529347Z",
     "start_time": "2024-04-12T19:31:02.374466Z"
    }
   },
   "id": "bff16b3597c6bdd1",
   "execution_count": 2
  },
  {
   "cell_type": "code",
   "outputs": [
    {
     "name": "stdout",
     "output_type": "stream",
     "text": [
      "torch.Size([500, 1, 32, 32])\n",
      "torch.Size([500])\n"
     ]
    }
   ],
   "source": [
    "data = next(iter(train_loader))\n",
    "for dt in data:\n",
    "    print(dt.shape)"
   ],
   "metadata": {
    "collapsed": false,
    "ExecuteTime": {
     "end_time": "2024-04-12T19:18:22.361280Z",
     "start_time": "2024-04-12T19:18:22.339252Z"
    }
   },
   "id": "ed895ca9e3312711",
   "execution_count": 4
  },
  {
   "cell_type": "markdown",
   "source": [
    "## Baseline Model"
   ],
   "metadata": {
    "collapsed": false
   },
   "id": "221f5227de483482"
  },
  {
   "cell_type": "code",
   "outputs": [
    {
     "name": "stdout",
     "output_type": "stream",
     "text": [
      "MPS is available on this device.\n"
     ]
    }
   ],
   "source": [
    "device = 'cpu'\n",
    "# Check if MPS is supported and available\n",
    "if torch.backends.mps.is_available():\n",
    "    print(\"MPS is available on this device.\")\n",
    "    device = torch.device(\"mps\")  # Use MPS device\n",
    "    # device = 'cpu'\n",
    "else:\n",
    "    print(\"MPS not available, using CPU instead.\")\n",
    "    device = torch.device(\"cpu\")  # Fallback to CPU\n",
    "    \n"
   ],
   "metadata": {
    "collapsed": false,
    "ExecuteTime": {
     "end_time": "2024-04-12T19:31:22.904115Z",
     "start_time": "2024-04-12T19:31:22.901503Z"
    }
   },
   "id": "90938e19add7f3ee",
   "execution_count": 6
  },
  {
   "cell_type": "markdown",
   "source": [
    "## Experiment 1 - FlexibleReLU with initialization of 1"
   ],
   "metadata": {
    "collapsed": false
   },
   "id": "5efe407a4211043b"
  },
  {
   "cell_type": "code",
   "outputs": [],
   "source": [
    "\n",
    "trainer = BasicTrainer('SimpleFReLUModel', device)\n"
   ],
   "metadata": {
    "collapsed": false,
    "ExecuteTime": {
     "end_time": "2024-04-12T19:31:19.504916Z",
     "start_time": "2024-04-12T19:31:19.501576Z"
    }
   },
   "id": "f9e3a994e1956049",
   "execution_count": 4
  },
  {
   "cell_type": "code",
   "outputs": [
    {
     "data": {
      "text/plain": "<IPython.core.display.HTML object>",
      "text/html": "wandb version 0.16.6 is available!  To upgrade, please run:\n $ pip install wandb --upgrade"
     },
     "metadata": {},
     "output_type": "display_data"
    },
    {
     "data": {
      "text/plain": "<IPython.core.display.HTML object>",
      "text/html": "Tracking run with wandb version 0.16.5"
     },
     "metadata": {},
     "output_type": "display_data"
    },
    {
     "data": {
      "text/plain": "<IPython.core.display.HTML object>",
      "text/html": "Run data is saved locally in <code>/Users/typeorigin/PythonProjects/FReLU-torch/wandb/run-20240412_152000-w2bvd456</code>"
     },
     "metadata": {},
     "output_type": "display_data"
    },
    {
     "data": {
      "text/plain": "<IPython.core.display.HTML object>",
      "text/html": "Syncing run <strong><a href='https://wandb.ai/liight/FReLU/runs/w2bvd456/workspace' target=\"_blank\">FReLu-Experiment-Bias-1</a></strong> to <a href='https://wandb.ai/liight/FReLU' target=\"_blank\">Weights & Biases</a> (<a href='https://wandb.me/run' target=\"_blank\">docs</a>)<br/>"
     },
     "metadata": {},
     "output_type": "display_data"
    },
    {
     "data": {
      "text/plain": "<IPython.core.display.HTML object>",
      "text/html": " View project at <a href='https://wandb.ai/liight/FReLU' target=\"_blank\">https://wandb.ai/liight/FReLU</a>"
     },
     "metadata": {},
     "output_type": "display_data"
    },
    {
     "data": {
      "text/plain": "<IPython.core.display.HTML object>",
      "text/html": " View run at <a href='https://wandb.ai/liight/FReLU/runs/w2bvd456/workspace' target=\"_blank\">https://wandb.ai/liight/FReLU/runs/w2bvd456/workspace</a>"
     },
     "metadata": {},
     "output_type": "display_data"
    },
    {
     "name": "stdout",
     "output_type": "stream",
     "text": [
      "SimpleFReLU initialized with: frelu_init=1\n",
      "Model SimpleFReLUModel loaded, SimpleFReLUModel(\n",
      "  (con_layers): Sequential(\n",
      "    (0): Conv2d(1, 64, kernel_size=(3, 3), stride=(1, 1), padding=(1, 1))\n",
      "    (1): FReLU(inplace=True)\n",
      "    (2): MaxPool2d(kernel_size=2, stride=2, padding=0, dilation=1, ceil_mode=False)\n",
      "    (3): Conv2d(64, 64, kernel_size=(3, 3), stride=(1, 1), padding=(1, 1))\n",
      "    (4): FReLU(inplace=True)\n",
      "    (5): MaxPool2d(kernel_size=2, stride=2, padding=0, dilation=1, ceil_mode=False)\n",
      "    (6): Conv2d(64, 64, kernel_size=(3, 3), stride=(1, 1), padding=(1, 1))\n",
      "    (7): FReLU(inplace=True)\n",
      "  )\n",
      "  (fc_layers): Sequential(\n",
      "    (0): Linear(in_features=4096, out_features=64, bias=True)\n",
      "    (1): FReLU(inplace=True)\n",
      "    (2): Linear(in_features=64, out_features=10, bias=True)\n",
      "    (3): Softmax(dim=1)\n",
      "  )\n",
      ")\n",
      "[Epoch 0]\n",
      "\tBatch 1 loss: 2.309319257736206\n",
      "\tBatch 11 loss: 2.3050107955932617\n",
      "\tBatch 21 loss: 2.306062698364258\n",
      "\tBatch 31 loss: 2.3007304668426514\n",
      "\tBatch 41 loss: 2.3005170822143555\n",
      "\tBatch 51 loss: 2.30426025390625\n",
      "\tBatch 61 loss: 2.2966384887695312\n",
      "\tBatch 71 loss: 2.300251007080078\n",
      "\tBatch 81 loss: 2.299534797668457\n",
      "\tBatch 91 loss: 2.304340362548828\n",
      "\tBatch 101 loss: 2.296884298324585\n",
      "\tBatch 111 loss: 2.209862232208252\n",
      "\tLoss => Train loss: 2.29, Test loss: 2.17, Train Acc: 0.13, Test Acc: 0.27\n",
      "[Epoch 1]\n",
      "\tBatch 1 loss: 2.157349109649658\n",
      "\tBatch 11 loss: 2.045408010482788\n",
      "\tBatch 21 loss: 2.0688579082489014\n",
      "\tBatch 31 loss: 2.0067498683929443\n",
      "\tBatch 41 loss: 1.9948252439498901\n",
      "\tBatch 51 loss: 1.9262770414352417\n",
      "\tBatch 61 loss: 1.9243699312210083\n",
      "\tBatch 71 loss: 1.9538646936416626\n",
      "\tBatch 81 loss: 1.8811748027801514\n",
      "\tBatch 91 loss: 1.8876631259918213\n",
      "\tBatch 101 loss: 1.8623971939086914\n",
      "\tBatch 111 loss: 1.8581362962722778\n",
      "\tLoss => Train loss: 1.96, Test loss: 1.88, Train Acc: 0.50, Test Acc: 0.58\n",
      "[Epoch 2]\n",
      "\tBatch 1 loss: 1.8736553192138672\n",
      "\tBatch 11 loss: 1.8892172574996948\n",
      "\tBatch 21 loss: 1.8063653707504272\n",
      "\tBatch 31 loss: 1.8093361854553223\n",
      "\tBatch 41 loss: 1.8080482482910156\n",
      "\tBatch 51 loss: 1.7716436386108398\n",
      "\tBatch 61 loss: 1.7997713088989258\n",
      "\tBatch 71 loss: 1.8088700771331787\n",
      "\tBatch 81 loss: 1.770698070526123\n",
      "\tBatch 91 loss: 1.7815251350402832\n",
      "\tBatch 101 loss: 1.7841072082519531\n",
      "\tBatch 111 loss: 1.8054677248001099\n",
      "\tLoss => Train loss: 1.80, Test loss: 1.78, Train Acc: 0.66, Test Acc: 0.68\n",
      "[Epoch 3]\n",
      "\tBatch 1 loss: 1.7792530059814453\n",
      "\tBatch 11 loss: 1.7852990627288818\n",
      "\tBatch 21 loss: 1.7815581560134888\n",
      "\tBatch 31 loss: 1.7974458932876587\n",
      "\tBatch 41 loss: 1.778328776359558\n",
      "\tBatch 51 loss: 1.7638493776321411\n",
      "\tBatch 61 loss: 1.738640546798706\n",
      "\tBatch 71 loss: 1.772634744644165\n",
      "\tBatch 81 loss: 1.7644124031066895\n",
      "\tBatch 91 loss: 1.7296911478042603\n",
      "\tBatch 101 loss: 1.8124797344207764\n",
      "\tBatch 111 loss: 1.7811365127563477\n",
      "\tLoss => Train loss: 1.77, Test loss: 1.76, Train Acc: 0.69, Test Acc: 0.69\n",
      "[Epoch 4]\n",
      "\tBatch 1 loss: 1.7711875438690186\n",
      "\tBatch 11 loss: 1.7391345500946045\n",
      "\tBatch 21 loss: 1.7541412115097046\n",
      "\tBatch 31 loss: 1.7720767259597778\n",
      "\tBatch 41 loss: 1.755844235420227\n",
      "\tBatch 51 loss: 1.7401577234268188\n",
      "\tBatch 61 loss: 1.7653862237930298\n",
      "\tBatch 71 loss: 1.7544753551483154\n",
      "\tBatch 81 loss: 1.774196743965149\n",
      "\tBatch 91 loss: 1.7788351774215698\n",
      "\tBatch 101 loss: 1.7595422267913818\n",
      "\tBatch 111 loss: 1.7201383113861084\n",
      "\tLoss => Train loss: 1.77, Test loss: 1.76, Train Acc: 0.69, Test Acc: 0.70\n",
      "[Epoch 5]\n",
      "\tBatch 1 loss: 1.7848254442214966\n",
      "\tBatch 11 loss: 1.7730671167373657\n",
      "\tBatch 21 loss: 1.780439019203186\n",
      "\tBatch 31 loss: 1.7355166673660278\n",
      "\tBatch 41 loss: 1.7592297792434692\n",
      "\tBatch 51 loss: 1.7782809734344482\n",
      "\tBatch 61 loss: 1.753437876701355\n",
      "\tBatch 71 loss: 1.7686864137649536\n",
      "\tBatch 81 loss: 1.7968165874481201\n",
      "\tBatch 91 loss: 1.7450143098831177\n",
      "\tBatch 101 loss: 1.7463327646255493\n",
      "\tBatch 111 loss: 1.779186725616455\n",
      "\tLoss => Train loss: 1.76, Test loss: 1.76, Train Acc: 0.70, Test Acc: 0.70\n",
      "[Epoch 6]\n",
      "\tBatch 1 loss: 1.8015187978744507\n",
      "\tBatch 11 loss: 1.7563793659210205\n",
      "\tBatch 21 loss: 1.7596490383148193\n",
      "\tBatch 31 loss: 1.744571328163147\n",
      "\tBatch 41 loss: 1.7726054191589355\n",
      "\tBatch 51 loss: 1.7642700672149658\n",
      "\tBatch 61 loss: 1.745919108390808\n",
      "\tBatch 71 loss: 1.7588738203048706\n",
      "\tBatch 81 loss: 1.7859736680984497\n",
      "\tBatch 91 loss: 1.7469782829284668\n",
      "\tBatch 101 loss: 1.743485689163208\n",
      "\tBatch 111 loss: 1.7385742664337158\n",
      "\tLoss => Train loss: 1.76, Test loss: 1.73, Train Acc: 0.70, Test Acc: 0.73\n",
      "[Epoch 7]\n",
      "\tBatch 1 loss: 1.7418360710144043\n",
      "\tBatch 11 loss: 1.6713677644729614\n",
      "\tBatch 21 loss: 1.6136525869369507\n",
      "\tBatch 31 loss: 1.6144157648086548\n",
      "\tBatch 41 loss: 1.6070610284805298\n",
      "\tBatch 51 loss: 1.6104347705841064\n",
      "\tBatch 61 loss: 1.6121020317077637\n",
      "\tBatch 71 loss: 1.5865737199783325\n",
      "\tBatch 81 loss: 1.5843833684921265\n",
      "\tBatch 91 loss: 1.6098806858062744\n",
      "\tBatch 101 loss: 1.59480881690979\n",
      "\tBatch 111 loss: 1.5752249956130981\n",
      "\tLoss => Train loss: 1.61, Test loss: 1.58, Train Acc: 0.85, Test Acc: 0.88\n",
      "[Epoch 8]\n",
      "\tBatch 1 loss: 1.5689233541488647\n",
      "\tBatch 11 loss: 1.590843677520752\n",
      "\tBatch 21 loss: 1.5819411277770996\n",
      "\tBatch 31 loss: 1.5820132493972778\n",
      "\tBatch 41 loss: 1.5757262706756592\n",
      "\tBatch 51 loss: 1.5542455911636353\n",
      "\tBatch 61 loss: 1.5629674196243286\n",
      "\tBatch 71 loss: 1.562154769897461\n",
      "\tBatch 81 loss: 1.591884732246399\n",
      "\tBatch 91 loss: 1.56145441532135\n",
      "\tBatch 101 loss: 1.5617910623550415\n",
      "\tBatch 111 loss: 1.5661472082138062\n",
      "\tLoss => Train loss: 1.58, Test loss: 1.58, Train Acc: 0.88, Test Acc: 0.88\n",
      "[Epoch 9]\n",
      "\tBatch 1 loss: 1.5885149240493774\n",
      "\tBatch 11 loss: 1.5773457288742065\n",
      "\tBatch 21 loss: 1.5817667245864868\n",
      "\tBatch 31 loss: 1.6029738187789917\n",
      "\tBatch 41 loss: 1.5700862407684326\n",
      "\tBatch 51 loss: 1.6119096279144287\n",
      "\tBatch 61 loss: 1.571319818496704\n",
      "\tBatch 71 loss: 1.5792362689971924\n",
      "\tBatch 81 loss: 1.5641309022903442\n",
      "\tBatch 91 loss: 1.5931438207626343\n",
      "\tBatch 101 loss: 1.5622737407684326\n",
      "\tBatch 111 loss: 1.5897960662841797\n",
      "\tLoss => Train loss: 1.58, Test loss: 1.58, Train Acc: 0.88, Test Acc: 0.88\n"
     ]
    },
    {
     "data": {
      "text/plain": "VBox(children=(Label(value='0.006 MB of 0.022 MB uploaded (0.003 MB deduped)\\r'), FloatProgress(value=0.264543…",
      "application/vnd.jupyter.widget-view+json": {
       "version_major": 2,
       "version_minor": 0,
       "model_id": "f4a75983ee014b08adfffb841629b327"
      }
     },
     "metadata": {},
     "output_type": "display_data"
    },
    {
     "data": {
      "text/plain": "<IPython.core.display.HTML object>",
      "text/html": "W&B sync reduced upload amount by 12.1%             "
     },
     "metadata": {},
     "output_type": "display_data"
    },
    {
     "data": {
      "text/plain": "<IPython.core.display.HTML object>",
      "text/html": "<style>\n    table.wandb td:nth-child(1) { padding: 0 10px; text-align: left ; width: auto;} td:nth-child(2) {text-align: left ; width: 100%}\n    .wandb-row { display: flex; flex-direction: row; flex-wrap: wrap; justify-content: flex-start; width: 100% }\n    .wandb-col { display: flex; flex-direction: column; flex-basis: 100%; flex: 1; padding: 10px; }\n    </style>\n<div class=\"wandb-row\"><div class=\"wandb-col\"><h3>Run history:</h3><br/><table class=\"wandb\"><tr><td>train/acc</td><td>▁▄▆▆▆▆▆███</td></tr><tr><td>train/loss</td><td>█▅▃▃▃▃▃▁▁▁</td></tr><tr><td>val/acc</td><td>▁▅▆▆▆▆▆███</td></tr><tr><td>val/loss</td><td>█▅▃▃▃▃▃▁▁▁</td></tr></table><br/></div><div class=\"wandb-col\"><h3>Run summary:</h3><br/><table class=\"wandb\"><tr><td>train/acc</td><td>0.87838</td></tr><tr><td>train/loss</td><td>1.58118</td></tr><tr><td>val/acc</td><td>0.8809</td></tr><tr><td>val/loss</td><td>1.57822</td></tr></table><br/></div></div>"
     },
     "metadata": {},
     "output_type": "display_data"
    },
    {
     "data": {
      "text/plain": "<IPython.core.display.HTML object>",
      "text/html": " View run <strong style=\"color:#cdcd00\">FReLu-Experiment-Bias-1</strong> at: <a href='https://wandb.ai/liight/FReLU/runs/w2bvd456/workspace' target=\"_blank\">https://wandb.ai/liight/FReLU/runs/w2bvd456/workspace</a><br/>Synced 6 W&B file(s), 0 media file(s), 2 artifact file(s) and 0 other file(s)"
     },
     "metadata": {},
     "output_type": "display_data"
    },
    {
     "data": {
      "text/plain": "<IPython.core.display.HTML object>",
      "text/html": "Find logs at: <code>./wandb/run-20240412_152000-w2bvd456/logs</code>"
     },
     "metadata": {},
     "output_type": "display_data"
    }
   ],
   "source": [
    "exper_configs = {\n",
    "    'lr': 0.1,\n",
    "    'momentum': 0.9,\n",
    "    'epochs': 10,\n",
    "    'model': 'SimpleFReLUModel',\n",
    "    'dataset': 'MINST',\n",
    "    'model_args': {\n",
    "        'frelu_init': 1\n",
    "    }\n",
    "}\n",
    "\n",
    "\n",
    "wandb.init(\n",
    "      # Set the project where this run will be logged\n",
    "      project=\"FReLU\", \n",
    "      # We pass a run name (otherwise it’ll be randomly assigned, like sunshine-lollypop-10)\n",
    "      name=f\"FReLu-Experiment-Bias-1\", \n",
    "      # Track hyperparameters and run metadata\n",
    "      config={**exper_configs})\n",
    "\n",
    "model_args = exper_configs['model_args']\n",
    "\n",
    "try:\n",
    "    trainer.train_model(model_args, train_loader, test_loader, max_epoc=10, lr=exper_configs['lr'], momentum=exper_configs['momentum'])\n",
    "    wandb.finish()\n",
    "except Exception as e:\n",
    "    print(f'Experiment failed with exception, \\n {e}')\n",
    "    wandb.finish()\n",
    "    \n"
   ],
   "metadata": {
    "collapsed": false,
    "ExecuteTime": {
     "end_time": "2024-04-12T19:21:14.385821Z",
     "start_time": "2024-04-12T19:20:00.834127Z"
    }
   },
   "id": "c3635cea42197e3f",
   "execution_count": 7
  },
  {
   "cell_type": "markdown",
   "source": [
    "## Experiment 2 - FlexibleReLU with initialization of 0"
   ],
   "metadata": {
    "collapsed": false
   },
   "id": "24eabc04f0d042c5"
  },
  {
   "cell_type": "code",
   "outputs": [
    {
     "data": {
      "text/plain": "<IPython.core.display.HTML object>",
      "text/html": "wandb version 0.16.6 is available!  To upgrade, please run:\n $ pip install wandb --upgrade"
     },
     "metadata": {},
     "output_type": "display_data"
    },
    {
     "data": {
      "text/plain": "<IPython.core.display.HTML object>",
      "text/html": "Tracking run with wandb version 0.16.5"
     },
     "metadata": {},
     "output_type": "display_data"
    },
    {
     "data": {
      "text/plain": "<IPython.core.display.HTML object>",
      "text/html": "Run data is saved locally in <code>/Users/typeorigin/PythonProjects/FReLU-torch/wandb/run-20240412_152212-046pt852</code>"
     },
     "metadata": {},
     "output_type": "display_data"
    },
    {
     "data": {
      "text/plain": "<IPython.core.display.HTML object>",
      "text/html": "Syncing run <strong><a href='https://wandb.ai/liight/FReLU/runs/046pt852/workspace' target=\"_blank\">FReLu-Experiment-Bias-0</a></strong> to <a href='https://wandb.ai/liight/FReLU' target=\"_blank\">Weights & Biases</a> (<a href='https://wandb.me/run' target=\"_blank\">docs</a>)<br/>"
     },
     "metadata": {},
     "output_type": "display_data"
    },
    {
     "data": {
      "text/plain": "<IPython.core.display.HTML object>",
      "text/html": " View project at <a href='https://wandb.ai/liight/FReLU' target=\"_blank\">https://wandb.ai/liight/FReLU</a>"
     },
     "metadata": {},
     "output_type": "display_data"
    },
    {
     "data": {
      "text/plain": "<IPython.core.display.HTML object>",
      "text/html": " View run at <a href='https://wandb.ai/liight/FReLU/runs/046pt852/workspace' target=\"_blank\">https://wandb.ai/liight/FReLU/runs/046pt852/workspace</a>"
     },
     "metadata": {},
     "output_type": "display_data"
    },
    {
     "name": "stdout",
     "output_type": "stream",
     "text": [
      "SimpleFReLU initialized with: frelu_init=0\n",
      "Model SimpleFReLUModel loaded, SimpleFReLUModel(\n",
      "  (con_layers): Sequential(\n",
      "    (0): Conv2d(1, 64, kernel_size=(3, 3), stride=(1, 1), padding=(1, 1))\n",
      "    (1): FReLU(inplace=True)\n",
      "    (2): MaxPool2d(kernel_size=2, stride=2, padding=0, dilation=1, ceil_mode=False)\n",
      "    (3): Conv2d(64, 64, kernel_size=(3, 3), stride=(1, 1), padding=(1, 1))\n",
      "    (4): FReLU(inplace=True)\n",
      "    (5): MaxPool2d(kernel_size=2, stride=2, padding=0, dilation=1, ceil_mode=False)\n",
      "    (6): Conv2d(64, 64, kernel_size=(3, 3), stride=(1, 1), padding=(1, 1))\n",
      "    (7): FReLU(inplace=True)\n",
      "  )\n",
      "  (fc_layers): Sequential(\n",
      "    (0): Linear(in_features=4096, out_features=64, bias=True)\n",
      "    (1): FReLU(inplace=True)\n",
      "    (2): Linear(in_features=64, out_features=10, bias=True)\n",
      "    (3): Softmax(dim=1)\n",
      "  )\n",
      ")\n",
      "[Epoch 0]\n",
      "\tBatch 1 loss: 2.302539110183716\n",
      "\tBatch 11 loss: 2.302563428878784\n",
      "\tBatch 21 loss: 2.3018743991851807\n",
      "\tBatch 31 loss: 2.300987482070923\n",
      "\tBatch 41 loss: 2.2990148067474365\n",
      "\tBatch 51 loss: 2.2912676334381104\n",
      "\tBatch 61 loss: 2.238548517227173\n",
      "\tBatch 71 loss: 2.0956132411956787\n",
      "\tBatch 81 loss: 1.9239450693130493\n",
      "\tBatch 91 loss: 2.011587381362915\n",
      "\tBatch 101 loss: 1.976610541343689\n",
      "\tBatch 111 loss: 1.9892774820327759\n",
      "\tLoss => Train loss: 2.15, Test loss: 1.97, Train Acc: 0.32, Test Acc: 0.49\n",
      "[Epoch 1]\n",
      "\tBatch 1 loss: 1.9948365688323975\n",
      "\tBatch 11 loss: 1.9440593719482422\n",
      "\tBatch 21 loss: 1.9697186946868896\n",
      "\tBatch 31 loss: 1.9886747598648071\n",
      "\tBatch 41 loss: 1.9890857934951782\n",
      "\tBatch 51 loss: 1.9314500093460083\n",
      "\tBatch 61 loss: 1.95876145362854\n",
      "\tBatch 71 loss: 1.8649181127548218\n",
      "\tBatch 81 loss: 1.7820594310760498\n",
      "\tBatch 91 loss: 1.833027720451355\n",
      "\tBatch 101 loss: 1.7680927515029907\n",
      "\tBatch 111 loss: 1.7202295064926147\n",
      "\tLoss => Train loss: 1.88, Test loss: 1.71, Train Acc: 0.58, Test Acc: 0.75\n",
      "[Epoch 2]\n",
      "\tBatch 1 loss: 1.7042557001113892\n",
      "\tBatch 11 loss: 1.7309576272964478\n",
      "\tBatch 21 loss: 1.6951591968536377\n",
      "\tBatch 31 loss: 1.6994704008102417\n",
      "\tBatch 41 loss: 1.7149055004119873\n",
      "\tBatch 51 loss: 1.6848564147949219\n",
      "\tBatch 61 loss: 1.7076739072799683\n",
      "\tBatch 71 loss: 1.7187460660934448\n",
      "\tBatch 81 loss: 1.6819610595703125\n",
      "\tBatch 91 loss: 1.7033206224441528\n",
      "\tBatch 101 loss: 1.7057334184646606\n",
      "\tBatch 111 loss: 1.6801701784133911\n",
      "\tLoss => Train loss: 1.70, Test loss: 1.61, Train Acc: 0.77, Test Acc: 0.85\n",
      "[Epoch 3]\n",
      "\tBatch 1 loss: 1.621809959411621\n",
      "\tBatch 11 loss: 1.6024199724197388\n",
      "\tBatch 21 loss: 1.6132946014404297\n",
      "\tBatch 31 loss: 1.5937453508377075\n",
      "\tBatch 41 loss: 1.580564022064209\n",
      "\tBatch 51 loss: 1.6035419702529907\n",
      "\tBatch 61 loss: 1.5924150943756104\n",
      "\tBatch 71 loss: 1.595363974571228\n",
      "\tBatch 81 loss: 1.588676929473877\n",
      "\tBatch 91 loss: 1.5869396924972534\n",
      "\tBatch 101 loss: 1.5754947662353516\n",
      "\tBatch 111 loss: 1.5806151628494263\n",
      "\tLoss => Train loss: 1.59, Test loss: 1.58, Train Acc: 0.87, Test Acc: 0.88\n",
      "[Epoch 4]\n",
      "\tBatch 1 loss: 1.5806827545166016\n",
      "\tBatch 11 loss: 1.5354965925216675\n",
      "\tBatch 21 loss: 1.496164321899414\n",
      "\tBatch 31 loss: 1.4966692924499512\n",
      "\tBatch 41 loss: 1.4972361326217651\n",
      "\tBatch 51 loss: 1.5061147212982178\n",
      "\tBatch 61 loss: 1.490187406539917\n",
      "\tBatch 71 loss: 1.4904433488845825\n",
      "\tBatch 81 loss: 1.4947330951690674\n",
      "\tBatch 91 loss: 1.4997820854187012\n",
      "\tBatch 101 loss: 1.496362328529358\n",
      "\tBatch 111 loss: 1.493322491645813\n",
      "\tLoss => Train loss: 1.50, Test loss: 1.49, Train Acc: 0.96, Test Acc: 0.98\n",
      "[Epoch 5]\n",
      "\tBatch 1 loss: 1.4856343269348145\n",
      "\tBatch 11 loss: 1.4854884147644043\n",
      "\tBatch 21 loss: 1.481067419052124\n",
      "\tBatch 31 loss: 1.47901451587677\n",
      "\tBatch 41 loss: 1.4781687259674072\n",
      "\tBatch 51 loss: 1.4827723503112793\n",
      "\tBatch 61 loss: 1.4940439462661743\n",
      "\tBatch 71 loss: 1.4892157316207886\n",
      "\tBatch 81 loss: 1.482436180114746\n",
      "\tBatch 91 loss: 1.489388108253479\n",
      "\tBatch 101 loss: 1.4822748899459839\n",
      "\tBatch 111 loss: 1.478292465209961\n",
      "\tLoss => Train loss: 1.49, Test loss: 1.48, Train Acc: 0.98, Test Acc: 0.98\n",
      "[Epoch 6]\n",
      "\tBatch 1 loss: 1.4702746868133545\n",
      "\tBatch 11 loss: 1.4818661212921143\n",
      "\tBatch 21 loss: 1.4876511096954346\n",
      "\tBatch 31 loss: 1.49052894115448\n",
      "\tBatch 41 loss: 1.4804420471191406\n",
      "\tBatch 51 loss: 1.4820126295089722\n",
      "\tBatch 61 loss: 1.475126028060913\n",
      "\tBatch 71 loss: 1.478737473487854\n",
      "\tBatch 81 loss: 1.479082465171814\n",
      "\tBatch 91 loss: 1.4750077724456787\n",
      "\tBatch 101 loss: 1.4787492752075195\n",
      "\tBatch 111 loss: 1.495187520980835\n",
      "\tLoss => Train loss: 1.48, Test loss: 1.48, Train Acc: 0.98, Test Acc: 0.98\n",
      "[Epoch 7]\n",
      "\tBatch 1 loss: 1.4863556623458862\n",
      "\tBatch 11 loss: 1.473095417022705\n",
      "\tBatch 21 loss: 1.4751603603363037\n",
      "\tBatch 31 loss: 1.4785836935043335\n",
      "\tBatch 41 loss: 1.478553056716919\n",
      "\tBatch 51 loss: 1.4796911478042603\n",
      "\tBatch 61 loss: 1.479832410812378\n",
      "\tBatch 71 loss: 1.4751852750778198\n",
      "\tBatch 81 loss: 1.478230357170105\n",
      "\tBatch 91 loss: 1.4772257804870605\n",
      "\tBatch 101 loss: 1.483094573020935\n",
      "\tBatch 111 loss: 1.474278211593628\n",
      "\tLoss => Train loss: 1.48, Test loss: 1.48, Train Acc: 0.98, Test Acc: 0.98\n",
      "[Epoch 8]\n",
      "\tBatch 1 loss: 1.4747521877288818\n",
      "\tBatch 11 loss: 1.4934884309768677\n",
      "\tBatch 21 loss: 1.4818555116653442\n",
      "\tBatch 31 loss: 1.4857207536697388\n",
      "\tBatch 41 loss: 1.4743393659591675\n",
      "\tBatch 51 loss: 1.4724152088165283\n",
      "\tBatch 61 loss: 1.4706941843032837\n",
      "\tBatch 71 loss: 1.4798213243484497\n",
      "\tBatch 81 loss: 1.4825295209884644\n",
      "\tBatch 91 loss: 1.4728246927261353\n",
      "\tBatch 101 loss: 1.4849506616592407\n",
      "\tBatch 111 loss: 1.4814527034759521\n",
      "\tLoss => Train loss: 1.48, Test loss: 1.48, Train Acc: 0.98, Test Acc: 0.98\n",
      "[Epoch 9]\n",
      "\tBatch 1 loss: 1.4867781400680542\n",
      "\tBatch 11 loss: 1.4692058563232422\n",
      "\tBatch 21 loss: 1.472652792930603\n",
      "\tBatch 31 loss: 1.4724634885787964\n",
      "\tBatch 41 loss: 1.4711748361587524\n",
      "\tBatch 51 loss: 1.4666699171066284\n",
      "\tBatch 61 loss: 1.472827672958374\n",
      "\tBatch 71 loss: 1.4657697677612305\n",
      "\tBatch 81 loss: 1.4788389205932617\n",
      "\tBatch 91 loss: 1.475095272064209\n",
      "\tBatch 101 loss: 1.4741895198822021\n",
      "\tBatch 111 loss: 1.4715230464935303\n",
      "\tLoss => Train loss: 1.48, Test loss: 1.47, Train Acc: 0.99, Test Acc: 0.99\n"
     ]
    },
    {
     "data": {
      "text/plain": "VBox(children=(Label(value='0.001 MB of 0.017 MB uploaded\\r'), FloatProgress(value=0.06880479414049495, max=1.…",
      "application/vnd.jupyter.widget-view+json": {
       "version_major": 2,
       "version_minor": 0,
       "model_id": "78c5f62e77574a68a37658052dacd34b"
      }
     },
     "metadata": {},
     "output_type": "display_data"
    },
    {
     "data": {
      "text/plain": "<IPython.core.display.HTML object>",
      "text/html": "<style>\n    table.wandb td:nth-child(1) { padding: 0 10px; text-align: left ; width: auto;} td:nth-child(2) {text-align: left ; width: 100%}\n    .wandb-row { display: flex; flex-direction: row; flex-wrap: wrap; justify-content: flex-start; width: 100% }\n    .wandb-col { display: flex; flex-direction: column; flex-basis: 100%; flex: 1; padding: 10px; }\n    </style>\n<div class=\"wandb-row\"><div class=\"wandb-col\"><h3>Run history:</h3><br/><table class=\"wandb\"><tr><td>train/acc</td><td>▁▄▆▇██████</td></tr><tr><td>train/loss</td><td>█▅▃▂▁▁▁▁▁▁</td></tr><tr><td>val/acc</td><td>▁▅▆▆██████</td></tr><tr><td>val/loss</td><td>█▄▃▃▁▁▁▁▁▁</td></tr></table><br/></div><div class=\"wandb-col\"><h3>Run summary:</h3><br/><table class=\"wandb\"><tr><td>train/acc</td><td>0.986</td></tr><tr><td>train/loss</td><td>1.47563</td></tr><tr><td>val/acc</td><td>0.9873</td></tr><tr><td>val/loss</td><td>1.4745</td></tr></table><br/></div></div>"
     },
     "metadata": {},
     "output_type": "display_data"
    },
    {
     "data": {
      "text/plain": "<IPython.core.display.HTML object>",
      "text/html": " View run <strong style=\"color:#cdcd00\">FReLu-Experiment-Bias-0</strong> at: <a href='https://wandb.ai/liight/FReLU/runs/046pt852/workspace' target=\"_blank\">https://wandb.ai/liight/FReLU/runs/046pt852/workspace</a><br/>Synced 6 W&B file(s), 0 media file(s), 0 artifact file(s) and 0 other file(s)"
     },
     "metadata": {},
     "output_type": "display_data"
    },
    {
     "data": {
      "text/plain": "<IPython.core.display.HTML object>",
      "text/html": "Find logs at: <code>./wandb/run-20240412_152212-046pt852/logs</code>"
     },
     "metadata": {},
     "output_type": "display_data"
    }
   ],
   "source": [
    "exper_configs = {\n",
    "    'lr': 0.1,\n",
    "    'momentum': 0.9,\n",
    "    'epochs': 10,\n",
    "    'model': 'SimpleFReLUModel',\n",
    "    'dataset': 'MINST',\n",
    "    'model_args': {\n",
    "        'frelu_init': 0\n",
    "    }\n",
    "}\n",
    "\n",
    "wandb.init(\n",
    "      # Set the project where this run will be logged\n",
    "      project=\"FReLU\", \n",
    "      # We pass a run name (otherwise it’ll be randomly assigned, like sunshine-lollypop-10)\n",
    "      name=f\"FReLu-Experiment-Bias-0\", \n",
    "      # Track hyperparameters and run metadata\n",
    "      config={**exper_configs})\n",
    "\n",
    "model_args = exper_configs['model_args']\n",
    "\n",
    "try:\n",
    "    trainer.train_model(model_args, train_loader, test_loader, max_epoc=10, lr=exper_configs['lr'], momentum=exper_configs['momentum'])\n",
    "    wandb.finish()\n",
    "except Exception as e:\n",
    "    print(f'Experiment failed with exception, \\n {e}')\n",
    "    wandb.finish()\n",
    "    \n"
   ],
   "metadata": {
    "collapsed": false,
    "ExecuteTime": {
     "end_time": "2024-04-12T19:23:33.619727Z",
     "start_time": "2024-04-12T19:22:12.202428Z"
    }
   },
   "id": "74caa270cd896d3b",
   "execution_count": 8
  },
  {
   "cell_type": "markdown",
   "source": [
    "## Experiment 3 - Basic ReLu"
   ],
   "metadata": {
    "collapsed": false
   },
   "id": "b6efdf2dd43d4f26"
  },
  {
   "cell_type": "code",
   "outputs": [
    {
     "name": "stderr",
     "output_type": "stream",
     "text": [
      "\u001B[34m\u001B[1mwandb\u001B[0m: Currently logged in as: \u001B[33mgangchu-cg\u001B[0m (\u001B[33mliight\u001B[0m). Use \u001B[1m`wandb login --relogin`\u001B[0m to force relogin\n"
     ]
    },
    {
     "data": {
      "text/plain": "<IPython.core.display.HTML object>",
      "text/html": "wandb version 0.16.6 is available!  To upgrade, please run:\n $ pip install wandb --upgrade"
     },
     "metadata": {},
     "output_type": "display_data"
    },
    {
     "data": {
      "text/plain": "<IPython.core.display.HTML object>",
      "text/html": "Tracking run with wandb version 0.16.5"
     },
     "metadata": {},
     "output_type": "display_data"
    },
    {
     "data": {
      "text/plain": "<IPython.core.display.HTML object>",
      "text/html": "Run data is saved locally in <code>/Users/typeorigin/PythonProjects/FReLU-torch/wandb/run-20240412_153129-dwqu9xie</code>"
     },
     "metadata": {},
     "output_type": "display_data"
    },
    {
     "data": {
      "text/plain": "<IPython.core.display.HTML object>",
      "text/html": "Syncing run <strong><a href='https://wandb.ai/liight/FReLU/runs/dwqu9xie/workspace' target=\"_blank\">ReLu-Experiment-Basic-ReLU</a></strong> to <a href='https://wandb.ai/liight/FReLU' target=\"_blank\">Weights & Biases</a> (<a href='https://wandb.me/run' target=\"_blank\">docs</a>)<br/>"
     },
     "metadata": {},
     "output_type": "display_data"
    },
    {
     "data": {
      "text/plain": "<IPython.core.display.HTML object>",
      "text/html": " View project at <a href='https://wandb.ai/liight/FReLU' target=\"_blank\">https://wandb.ai/liight/FReLU</a>"
     },
     "metadata": {},
     "output_type": "display_data"
    },
    {
     "data": {
      "text/plain": "<IPython.core.display.HTML object>",
      "text/html": " View run at <a href='https://wandb.ai/liight/FReLU/runs/dwqu9xie/workspace' target=\"_blank\">https://wandb.ai/liight/FReLU/runs/dwqu9xie/workspace</a>"
     },
     "metadata": {},
     "output_type": "display_data"
    },
    {
     "name": "stdout",
     "output_type": "stream",
     "text": [
      "Model SimpleBasicReLUModel loaded, SimpleBasicReLUModel(\n",
      "  (con_layers): Sequential(\n",
      "    (0): Conv2d(1, 64, kernel_size=(3, 3), stride=(1, 1), padding=(1, 1))\n",
      "    (1): ReLU(inplace=True)\n",
      "    (2): MaxPool2d(kernel_size=2, stride=2, padding=0, dilation=1, ceil_mode=False)\n",
      "    (3): Conv2d(64, 64, kernel_size=(3, 3), stride=(1, 1), padding=(1, 1))\n",
      "    (4): ReLU(inplace=True)\n",
      "    (5): MaxPool2d(kernel_size=2, stride=2, padding=0, dilation=1, ceil_mode=False)\n",
      "    (6): Conv2d(64, 64, kernel_size=(3, 3), stride=(1, 1), padding=(1, 1))\n",
      "    (7): ReLU(inplace=True)\n",
      "  )\n",
      "  (fc_layers): Sequential(\n",
      "    (0): Linear(in_features=4096, out_features=64, bias=True)\n",
      "    (1): ReLU(inplace=True)\n",
      "    (2): Linear(in_features=64, out_features=10, bias=True)\n",
      "    (3): Softmax(dim=1)\n",
      "  )\n",
      ")\n",
      "[Epoch 0]\n",
      "\tBatch 1 loss: 2.3031227588653564\n",
      "\tBatch 11 loss: 2.302121162414551\n",
      "\tBatch 21 loss: 2.3016750812530518\n",
      "\tBatch 31 loss: 2.3003084659576416\n",
      "\tBatch 41 loss: 2.2980010509490967\n",
      "\tBatch 51 loss: 2.2934086322784424\n",
      "\tBatch 61 loss: 2.2643778324127197\n",
      "\tBatch 71 loss: 2.0911269187927246\n",
      "\tBatch 81 loss: 2.0560522079467773\n",
      "\tBatch 91 loss: 1.9323575496673584\n",
      "\tBatch 101 loss: 1.9752062559127808\n",
      "\tBatch 111 loss: 1.9695464372634888\n",
      "\tLoss => Train loss: 2.16, Test loss: 1.97, Train Acc: 0.28, Test Acc: 0.49\n",
      "[Epoch 1]\n",
      "\tBatch 1 loss: 1.9904171228408813\n",
      "\tBatch 11 loss: 1.982372760772705\n",
      "\tBatch 21 loss: 1.9129385948181152\n",
      "\tBatch 31 loss: 1.8522610664367676\n",
      "\tBatch 41 loss: 1.9017149209976196\n",
      "\tBatch 51 loss: 1.8209013938903809\n",
      "\tBatch 61 loss: 1.786452293395996\n",
      "\tBatch 71 loss: 1.756363034248352\n",
      "\tBatch 81 loss: 1.7461271286010742\n",
      "\tBatch 91 loss: 1.7347279787063599\n",
      "\tBatch 101 loss: 1.689043402671814\n",
      "\tBatch 111 loss: 1.7352961301803589\n",
      "\tLoss => Train loss: 1.81, Test loss: 1.62, Train Acc: 0.65, Test Acc: 0.84\n",
      "[Epoch 2]\n",
      "\tBatch 1 loss: 1.63811194896698\n",
      "\tBatch 11 loss: 1.627496361732483\n",
      "\tBatch 21 loss: 1.6048134565353394\n",
      "\tBatch 31 loss: 1.6192922592163086\n",
      "\tBatch 41 loss: 1.619317889213562\n",
      "\tBatch 51 loss: 1.6105412244796753\n",
      "\tBatch 61 loss: 1.5397915840148926\n",
      "\tBatch 71 loss: 1.5621938705444336\n",
      "\tBatch 81 loss: 1.5385138988494873\n",
      "\tBatch 91 loss: 1.516931176185608\n",
      "\tBatch 101 loss: 1.5125192403793335\n",
      "\tBatch 111 loss: 1.5068509578704834\n",
      "\tLoss => Train loss: 1.57, Test loss: 1.51, Train Acc: 0.90, Test Acc: 0.96\n",
      "[Epoch 3]\n",
      "\tBatch 1 loss: 1.513024926185608\n",
      "\tBatch 11 loss: 1.4994122982025146\n",
      "\tBatch 21 loss: 1.5027942657470703\n",
      "\tBatch 31 loss: 1.5001084804534912\n",
      "\tBatch 41 loss: 1.5212833881378174\n",
      "\tBatch 51 loss: 1.4988406896591187\n",
      "\tBatch 61 loss: 1.5004645586013794\n",
      "\tBatch 71 loss: 1.4917919635772705\n",
      "\tBatch 81 loss: 1.4900456666946411\n",
      "\tBatch 91 loss: 1.4957677125930786\n",
      "\tBatch 101 loss: 1.4952685832977295\n",
      "\tBatch 111 loss: 1.4852455854415894\n",
      "\tLoss => Train loss: 1.50, Test loss: 1.50, Train Acc: 0.96, Test Acc: 0.97\n",
      "[Epoch 4]\n",
      "\tBatch 1 loss: 1.4870058298110962\n",
      "\tBatch 11 loss: 1.476318120956421\n",
      "\tBatch 21 loss: 1.4912075996398926\n",
      "\tBatch 31 loss: 1.489929437637329\n",
      "\tBatch 41 loss: 1.4892324209213257\n",
      "\tBatch 51 loss: 1.4904510974884033\n",
      "\tBatch 61 loss: 1.4767988920211792\n",
      "\tBatch 71 loss: 1.4836856126785278\n",
      "\tBatch 81 loss: 1.4834223985671997\n",
      "\tBatch 91 loss: 1.487693428993225\n",
      "\tBatch 101 loss: 1.5013900995254517\n",
      "\tBatch 111 loss: 1.483208179473877\n",
      "\tLoss => Train loss: 1.49, Test loss: 1.49, Train Acc: 0.97, Test Acc: 0.98\n",
      "[Epoch 5]\n",
      "\tBatch 1 loss: 1.4871066808700562\n",
      "\tBatch 11 loss: 1.479753851890564\n",
      "\tBatch 21 loss: 1.5017712116241455\n",
      "\tBatch 31 loss: 1.4859896898269653\n",
      "\tBatch 41 loss: 1.4927722215652466\n",
      "\tBatch 51 loss: 1.4863563776016235\n",
      "\tBatch 61 loss: 1.4754469394683838\n",
      "\tBatch 71 loss: 1.493447184562683\n",
      "\tBatch 81 loss: 1.4858466386795044\n",
      "\tBatch 91 loss: 1.4888945817947388\n",
      "\tBatch 101 loss: 1.4881254434585571\n",
      "\tBatch 111 loss: 1.4824670553207397\n",
      "\tLoss => Train loss: 1.49, Test loss: 1.48, Train Acc: 0.98, Test Acc: 0.98\n",
      "[Epoch 6]\n",
      "\tBatch 1 loss: 1.4883567094802856\n",
      "\tBatch 11 loss: 1.4900808334350586\n",
      "\tBatch 21 loss: 1.4782782793045044\n",
      "\tBatch 31 loss: 1.4880695343017578\n",
      "\tBatch 41 loss: 1.48019278049469\n",
      "\tBatch 51 loss: 1.4866223335266113\n",
      "\tBatch 61 loss: 1.4755980968475342\n",
      "\tBatch 71 loss: 1.4712724685668945\n",
      "\tBatch 81 loss: 1.4818466901779175\n",
      "\tBatch 91 loss: 1.4655649662017822\n",
      "\tBatch 101 loss: 1.4967989921569824\n",
      "\tBatch 111 loss: 1.4848718643188477\n",
      "\tLoss => Train loss: 1.48, Test loss: 1.48, Train Acc: 0.98, Test Acc: 0.98\n",
      "[Epoch 7]\n",
      "\tBatch 1 loss: 1.4854878187179565\n",
      "\tBatch 11 loss: 1.4779618978500366\n",
      "\tBatch 21 loss: 1.4813506603240967\n",
      "\tBatch 31 loss: 1.4775723218917847\n",
      "\tBatch 41 loss: 1.4716416597366333\n",
      "\tBatch 51 loss: 1.4788655042648315\n",
      "\tBatch 61 loss: 1.4797102212905884\n",
      "\tBatch 71 loss: 1.4738576412200928\n",
      "\tBatch 81 loss: 1.4748737812042236\n",
      "\tBatch 91 loss: 1.473422884941101\n",
      "\tBatch 101 loss: 1.4739044904708862\n",
      "\tBatch 111 loss: 1.4767770767211914\n",
      "\tLoss => Train loss: 1.48, Test loss: 1.48, Train Acc: 0.98, Test Acc: 0.98\n",
      "[Epoch 8]\n",
      "\tBatch 1 loss: 1.488287329673767\n",
      "\tBatch 11 loss: 1.4739253520965576\n",
      "\tBatch 21 loss: 1.4808496236801147\n",
      "\tBatch 31 loss: 1.475122094154358\n",
      "\tBatch 41 loss: 1.4778826236724854\n",
      "\tBatch 51 loss: 1.4778428077697754\n",
      "\tBatch 61 loss: 1.4884694814682007\n",
      "\tBatch 71 loss: 1.4829035997390747\n",
      "\tBatch 81 loss: 1.4757790565490723\n",
      "\tBatch 91 loss: 1.4774198532104492\n",
      "\tBatch 101 loss: 1.4772682189941406\n",
      "\tBatch 111 loss: 1.4784743785858154\n",
      "\tLoss => Train loss: 1.48, Test loss: 1.48, Train Acc: 0.98, Test Acc: 0.98\n",
      "[Epoch 9]\n",
      "\tBatch 1 loss: 1.4778999090194702\n",
      "\tBatch 11 loss: 1.4810327291488647\n",
      "\tBatch 21 loss: 1.469607949256897\n",
      "\tBatch 31 loss: 1.481075644493103\n",
      "\tBatch 41 loss: 1.4747544527053833\n",
      "\tBatch 51 loss: 1.468122124671936\n",
      "\tBatch 61 loss: 1.4701634645462036\n",
      "\tBatch 71 loss: 1.470243215560913\n",
      "\tBatch 81 loss: 1.4705660343170166\n",
      "\tBatch 91 loss: 1.4701223373413086\n",
      "\tBatch 101 loss: 1.4843708276748657\n",
      "\tBatch 111 loss: 1.4777343273162842\n",
      "\tLoss => Train loss: 1.48, Test loss: 1.48, Train Acc: 0.99, Test Acc: 0.98\n"
     ]
    },
    {
     "data": {
      "text/plain": "VBox(children=(Label(value='0.001 MB of 0.001 MB uploaded\\r'), FloatProgress(value=1.0, max=1.0)))",
      "application/vnd.jupyter.widget-view+json": {
       "version_major": 2,
       "version_minor": 0,
       "model_id": "ace87efe82c345269735f4f197393a27"
      }
     },
     "metadata": {},
     "output_type": "display_data"
    },
    {
     "data": {
      "text/plain": "<IPython.core.display.HTML object>",
      "text/html": "W&B sync reduced upload amount by 12.3%             "
     },
     "metadata": {},
     "output_type": "display_data"
    },
    {
     "data": {
      "text/plain": "<IPython.core.display.HTML object>",
      "text/html": "<style>\n    table.wandb td:nth-child(1) { padding: 0 10px; text-align: left ; width: auto;} td:nth-child(2) {text-align: left ; width: 100%}\n    .wandb-row { display: flex; flex-direction: row; flex-wrap: wrap; justify-content: flex-start; width: 100% }\n    .wandb-col { display: flex; flex-direction: column; flex-basis: 100%; flex: 1; padding: 10px; }\n    </style>\n<div class=\"wandb-row\"><div class=\"wandb-col\"><h3>Run history:</h3><br/><table class=\"wandb\"><tr><td>train/acc</td><td>▁▅▇███████</td></tr><tr><td>train/loss</td><td>█▄▂▁▁▁▁▁▁▁</td></tr><tr><td>val/acc</td><td>▁▆████████</td></tr><tr><td>val/loss</td><td>█▃▁▁▁▁▁▁▁▁</td></tr></table><br/></div><div class=\"wandb-col\"><h3>Run summary:</h3><br/><table class=\"wandb\"><tr><td>train/acc</td><td>0.9856</td></tr><tr><td>train/loss</td><td>1.47624</td></tr><tr><td>val/acc</td><td>0.9807</td></tr><tr><td>val/loss</td><td>1.48087</td></tr></table><br/></div></div>"
     },
     "metadata": {},
     "output_type": "display_data"
    },
    {
     "data": {
      "text/plain": "<IPython.core.display.HTML object>",
      "text/html": " View run <strong style=\"color:#cdcd00\">ReLu-Experiment-Basic-ReLU</strong> at: <a href='https://wandb.ai/liight/FReLU/runs/dwqu9xie/workspace' target=\"_blank\">https://wandb.ai/liight/FReLU/runs/dwqu9xie/workspace</a><br/>Synced 6 W&B file(s), 0 media file(s), 2 artifact file(s) and 0 other file(s)"
     },
     "metadata": {},
     "output_type": "display_data"
    },
    {
     "data": {
      "text/plain": "<IPython.core.display.HTML object>",
      "text/html": "Find logs at: <code>./wandb/run-20240412_153129-dwqu9xie/logs</code>"
     },
     "metadata": {},
     "output_type": "display_data"
    }
   ],
   "source": [
    "exper_configs = {\n",
    "    'lr': 0.1,\n",
    "    'momentum': 0.9,\n",
    "    'epochs': 10,\n",
    "    'model': 'SimpleBasicReLUModel',\n",
    "    'dataset': 'MINST',\n",
    "    'model_args': {\n",
    "    }\n",
    "}\n",
    "\n",
    "trainer = BasicTrainer('SimpleBasicReLUModel', device)\n",
    "\n",
    "wandb.init(\n",
    "      # Set the project where this run will be logged\n",
    "      project=\"FReLU\", \n",
    "      # We pass a run name (otherwise it’ll be randomly assigned, like sunshine-lollypop-10)\n",
    "      name=f\"ReLu-Experiment-Basic-ReLU\", \n",
    "      # Track hyperparameters and run metadata\n",
    "      config={**exper_configs})\n",
    "\n",
    "model_args = exper_configs['model_args']\n",
    "\n",
    "try:\n",
    "    trainer.train_model(model_args, train_loader, test_loader, max_epoc=10, lr=exper_configs['lr'], momentum=exper_configs['momentum'])\n",
    "    wandb.finish()\n",
    "except Exception as e:\n",
    "    print(f'Experiment failed with exception, \\n {e}')\n",
    "    wandb.finish()\n",
    "    \n"
   ],
   "metadata": {
    "collapsed": false,
    "ExecuteTime": {
     "end_time": "2024-04-12T19:32:38.136221Z",
     "start_time": "2024-04-12T19:31:28.625509Z"
    }
   },
   "id": "8d999d5af45cc354",
   "execution_count": 7
  },
  {
   "cell_type": "markdown",
   "source": [
    "## Loss and Accuracy for the Test Model"
   ],
   "metadata": {
    "collapsed": false
   },
   "id": "16d4dd3368308679"
  },
  {
   "cell_type": "code",
   "outputs": [
    {
     "name": "stdout",
     "output_type": "stream",
     "text": [
      "[1.9675633788108826, 1.6223524928092956, 1.5062312304973602, 1.4964751541614532, 1.4859070479869843, 1.4840829372406006, 1.4812860131263732, 1.4823405921459198, 1.480529248714447, 1.480873715877533]\n"
     ]
    },
    {
     "data": {
      "text/plain": "<Figure size 640x480 with 1 Axes>",
      "image/png": "[encoded data removed]"
     },
     "metadata": {},
     "output_type": "display_data"
    },
    {
     "data": {
      "text/plain": "<Figure size 640x480 with 1 Axes>",
      "image/png": "[encoded data removed]"
     },
     "metadata": {},
     "output_type": "display_data"
    }
   ],
   "source": [
    "train_losses, val_losses, train_acc, val_acc = trainer.get_train_summary().values()\n",
    "\n",
    "print(val_losses)\n",
    "\n",
    "plt.plot(train_losses, label='Train Loss')\n",
    "plt.plot(val_losses, label='Val Loss')\n",
    "plt.legend()\n",
    "plt.title('Loss Vs. Epoch')\n",
    "plt.xlabel('Epoch')\n",
    "plt.ylabel('Loss')\n",
    "plt.show()\n",
    "\n",
    "plt.plot(train_acc, label='Train Acc')\n",
    "plt.plot(val_acc, label='Val Acc')\n",
    "plt.legend()\n",
    "plt.title('Accuracy Vs. Epoch')\n",
    "plt.xlabel('Epoch')\n",
    "plt.ylabel('Accuracy')\n",
    "plt.show()\n"
   ],
   "metadata": {
    "collapsed": false,
    "ExecuteTime": {
     "end_time": "2024-04-12T19:37:30.886454Z",
     "start_time": "2024-04-12T19:37:30.726431Z"
    }
   },
   "id": "c9f090e0a9783326",
   "execution_count": 13
  },
  {
   "cell_type": "markdown",
   "source": [
    "## VGG11"
   ],
   "metadata": {
    "collapsed": false
   },
   "id": "ab972a6b5e640289"
  },
  {
   "cell_type": "code",
   "outputs": [],
   "source": [
    "import torch\n",
    "import torch.nn as nn\n",
    "import torch.nn.functional as F\n",
    "\n",
    "\n",
    "class VGG11Net(nn.Module):\n",
    "\n",
    "    def __init__(self):\n",
    "        super(VGG11Net, self).__init__()\n",
    "        self.convs_layers = nn.Sequential(\n",
    "            nn.Conv2d(1, 64, kernel_size=3, padding=1), \n",
    "            nn.BatchNorm2d(64),\n",
    "            nn.ReLU(inplace=True),\n",
    "            nn.MaxPool2d(kernel_size=2, stride=2),  \n",
    "            \n",
    "            nn.Conv2d(64, 128, kernel_size=3, padding=1), \n",
    "            nn.BatchNorm2d(128),\n",
    "            nn.ReLU(inplace=True),\n",
    "            nn.MaxPool2d(kernel_size=2, stride=2), \n",
    "            \n",
    "            nn.Conv2d(128, 256, kernel_size=3, padding=1), \n",
    "            nn.BatchNorm2d(256),\n",
    "            nn.ReLU(inplace=True),\n",
    "            \n",
    "            nn.Conv2d(256, 256, kernel_size=3, padding=1), \n",
    "            nn.BatchNorm2d(256),\n",
    "            nn.ReLU(inplace=True),\n",
    "            nn.MaxPool2d(kernel_size=2, stride=2), \n",
    "            \n",
    "            nn.Conv2d(256, 512, kernel_size=3, padding=1), \n",
    "            nn.BatchNorm2d(512),\n",
    "            nn.ReLU(inplace=True),\n",
    "            \n",
    "            nn.Conv2d(512, 512, kernel_size=3, padding=1), \n",
    "            nn.BatchNorm2d(512),\n",
    "            nn.ReLU(inplace=True),\n",
    "            nn.MaxPool2d(kernel_size=2, stride=2), \n",
    "            \n",
    "            nn.Conv2d(512, 512, kernel_size=3, padding=1),  \n",
    "            nn.BatchNorm2d(512),\n",
    "            nn.ReLU(inplace=True),\n",
    "            \n",
    "            nn.Conv2d(512, 512, kernel_size=3, padding=1), \n",
    "            nn.BatchNorm2d(512),\n",
    "            nn.ReLU(inplace=True),\n",
    "            nn.MaxPool2d(kernel_size=2, stride=2) \n",
    "        )\n",
    "        self.classifier = nn.Sequential(\n",
    "            nn.Linear(512, 4096), \n",
    "            nn.ReLU(inplace=True),\n",
    "            nn.Dropout(0.5),\n",
    "            \n",
    "            nn.Linear(4096, 4096), \n",
    "            nn.ReLU(inplace=True),\n",
    "            nn.Dropout(0.5),\n",
    "            \n",
    "            nn.Linear(4096, 10) \n",
    "        )\n",
    "\n",
    "    def forward(self, x):\n",
    "        x = self.convs_layers(x) \n",
    "        x = torch.flatten(x, 1)  \n",
    "        x = self.classifier(x) \n",
    "        return x\n",
    "\n",
    "\n"
   ],
   "metadata": {
    "collapsed": false
   },
   "id": "577ea9d9e689b519"
  }
 ],
 "metadata": {
  "kernelspec": {
   "display_name": "Python 3",
   "language": "python",
   "name": "python3"
  },
  "language_info": {
   "codemirror_mode": {
    "name": "ipython",
    "version": 2
   },
   "file_extension": ".py",
   "mimetype": "text/x-python",
   "name": "python",
   "nbconvert_exporter": "python",
   "pygments_lexer": "ipython2",
   "version": "2.7.6"
  }
 },
 "nbformat": 4,
 "nbformat_minor": 5
}
