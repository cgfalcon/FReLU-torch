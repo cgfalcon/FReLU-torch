{
 "cells": [
  {
   "cell_type": "markdown",
   "id": "85cfaf90c75ceaf5",
   "metadata": {
    "collapsed": false,
    "jupyter": {
     "outputs_hidden": false
    }
   },
   "source": "## 552 Project"
  },
  {
   "cell_type": "markdown",
   "id": "858a5cc21c085f90",
   "metadata": {
    "collapsed": false,
    "jupyter": {
     "outputs_hidden": false
    }
   },
   "source": "### 1. Original, with ReLU"
  },
  {
   "cell_type": "code",
   "id": "f7e5a87486f39c17",
   "metadata": {
    "collapsed": false,
    "jupyter": {
     "outputs_hidden": false
    },
    "ExecuteTime": {
     "end_time": "2024-04-13T17:24:47.481274Z",
     "start_time": "2024-04-13T17:24:04.200668Z"
    }
   },
   "source": [
    "import matplotlib\n",
    "import matplotlib.pyplot as plt\n",
    "import tensorflow.keras.datasets.mnist as mnist\n",
    "import numpy as np"
   ],
   "outputs": [],
   "execution_count": 1
  },
  {
   "cell_type": "code",
   "id": "a9322c2eaae6653c",
   "metadata": {
    "collapsed": false,
    "jupyter": {
     "outputs_hidden": false
    },
    "ExecuteTime": {
     "end_time": "2024-04-13T17:24:48.781691Z",
     "start_time": "2024-04-13T17:24:47.483122Z"
    }
   },
   "source": [
    "import torch\n",
    "import torch.nn as nn\n",
    "import torch.nn.functional as F\n",
    "import torch.optim as optim\n",
    "from torch.utils.data import DataLoader, TensorDataset"
   ],
   "outputs": [],
   "execution_count": 2
  },
  {
   "cell_type": "markdown",
   "id": "bb6bd61556d4dc73",
   "metadata": {
    "collapsed": false,
    "jupyter": {
     "outputs_hidden": false
    }
   },
   "source": [
    "#### Prepare the dataset"
   ]
  },
  {
   "metadata": {
    "ExecuteTime": {
     "end_time": "2024-04-13T17:24:48.837995Z",
     "start_time": "2024-04-13T17:24:48.782515Z"
    }
   },
   "cell_type": "code",
   "source": [
    "device = 'cpu'\n",
    "# Check if MPS is supported and available\n",
    "if torch.backends.mps.is_available():\n",
    "    print(\"MPS is available on this device.\")\n",
    "    device = torch.device(\"mps\")  # Use MPS device\n",
    "else:\n",
    "    print(\"MPS not available, using CPU instead.\")\n",
    "    device = torch.device(\"cpu\")  # Fallback to CPU"
   ],
   "id": "a3999fd502ab6afb",
   "outputs": [
    {
     "name": "stdout",
     "output_type": "stream",
     "text": [
      "MPS is available on this device.\n"
     ]
    }
   ],
   "execution_count": 3
  },
  {
   "cell_type": "code",
   "id": "459b223381aedffa",
   "metadata": {
    "collapsed": false,
    "jupyter": {
     "outputs_hidden": false
    },
    "ExecuteTime": {
     "end_time": "2024-04-13T17:24:48.957718Z",
     "start_time": "2024-04-13T17:24:48.839613Z"
    }
   },
   "source": [
    "# Load data\n",
    "(x_train, y_train), (x_test, y_test) = mnist.load_data()\n",
    "\n",
    "# Sampling of the training dataset: 600 images for each class\n",
    "selected_indices_per_class = []\n",
    "for class_idx in range(len(np.unique(y_train))):\n",
    "    selected_indices = np.random.choice(np.where(y_train == class_idx)[0], size=600, replace=False)\n",
    "    selected_indices_per_class.append(selected_indices)\n",
    "\n",
    "selected_indices = np.concatenate(selected_indices_per_class)\n",
    "np.random.shuffle(selected_indices)\n",
    "\n",
    "x_train = x_train[selected_indices]\n",
    "y_train = y_train[selected_indices]\n",
    "\n",
    "\n",
    "# Normalization of X\n",
    "# Find minimum and maximum values\n",
    "min_val_train = np.min(x_train)\n",
    "max_val_train = np.max(x_train)\n",
    "\n",
    "min_val_test = np.min(x_test)\n",
    "max_val_test = np.max(x_test)\n",
    "\n",
    "# Linear transformation to normalize data to [0, 1]\n",
    "normalized_x_train = (x_train - min_val_train) / (max_val_train - min_val_train)\n",
    "normalized_x_test = (x_test - min_val_test) / (max_val_test - min_val_test)\n"
   ],
   "outputs": [],
   "execution_count": 4
  },
  {
   "cell_type": "code",
   "id": "87c129f2e1e4b712",
   "metadata": {
    "collapsed": false,
    "jupyter": {
     "outputs_hidden": false
    },
    "ExecuteTime": {
     "end_time": "2024-04-13T17:24:48.963853Z",
     "start_time": "2024-04-13T17:24:48.958448Z"
    }
   },
   "source": [
    "# Define VGG11 network\n",
    "class VGG11(nn.Module):\n",
    "    def __init__(self):\n",
    "        super(VGG11, self).__init__()\n",
    "        self.conv_layers = nn.Sequential(\n",
    "            nn.Conv2d(1, 64, kernel_size=3, stride=1, padding=1),\n",
    "            nn.BatchNorm2d(64),\n",
    "            nn.ReLU(),\n",
    "            nn.MaxPool2d(kernel_size=2, stride=2),\n",
    "            nn.Conv2d(64, 128, kernel_size=3, stride=1, padding=1),\n",
    "            nn.BatchNorm2d(128),\n",
    "            nn.ReLU(),\n",
    "            nn.MaxPool2d(kernel_size=2, stride=2),\n",
    "            nn.Conv2d(128, 256, kernel_size=3, stride=1, padding=1),\n",
    "            nn.BatchNorm2d(256),\n",
    "            nn.ReLU(),\n",
    "            nn.Conv2d(256, 256, kernel_size=3, stride=1, padding=1),\n",
    "            nn.BatchNorm2d(256),\n",
    "            nn.ReLU(),\n",
    "            nn.MaxPool2d(kernel_size=2, stride=2),\n",
    "            nn.Conv2d(256, 512, kernel_size=3, stride=1, padding=1),\n",
    "            nn.BatchNorm2d(512),\n",
    "            nn.ReLU(),\n",
    "            nn.Conv2d(512, 512, kernel_size=3, stride=1, padding=1),\n",
    "            nn.BatchNorm2d(512),\n",
    "            nn.ReLU(),\n",
    "            nn.MaxPool2d(kernel_size=2, stride=2),\n",
    "            nn.Conv2d(512, 512, kernel_size=3, stride=1, padding=1),\n",
    "            nn.BatchNorm2d(512),\n",
    "            nn.ReLU(),\n",
    "            nn.Conv2d(512, 512, kernel_size=3, stride=1, padding=1),\n",
    "            nn.BatchNorm2d(512),\n",
    "            nn.ReLU(),\n",
    "            nn.MaxPool2d(kernel_size=2, stride=2)\n",
    "        )\n",
    "        self.fc_layers = nn.Sequential(\n",
    "            nn.Linear(512, 4096),\n",
    "            nn.ReLU(),\n",
    "            nn.Dropout(0.5),\n",
    "            nn.Linear(4096, 4096),\n",
    "            nn.ReLU(),\n",
    "            nn.Dropout(0.5),\n",
    "            nn.Linear(4096, 10)\n",
    "        )\n",
    "\n",
    "\n",
    "    def forward(self, x):\n",
    "        x = self.conv_layers(x)\n",
    "        x = x.view(x.size(0), -1)   # Flatten it for the linear part\n",
    "        x = self.fc_layers(x)     # Send it to the fully-connected layers\n",
    "        return x\n"
   ],
   "outputs": [],
   "execution_count": 5
  },
  {
   "cell_type": "code",
   "id": "380b232120fd14b6",
   "metadata": {
    "collapsed": false,
    "jupyter": {
     "outputs_hidden": false
    },
    "ExecuteTime": {
     "end_time": "2024-04-13T17:24:48.990661Z",
     "start_time": "2024-04-13T17:24:48.964660Z"
    }
   },
   "source": [
    "# Convert data to PyTorch tensors\n",
    "x_train_tensor = torch.tensor(normalized_x_train, dtype=torch.float32).unsqueeze(1)\n",
    "y_train_tensor = torch.tensor(y_train, dtype=torch.long)"
   ],
   "outputs": [],
   "execution_count": 6
  },
  {
   "cell_type": "code",
   "id": "6d5921f9d11dd10d",
   "metadata": {
    "collapsed": false,
    "jupyter": {
     "outputs_hidden": false
    },
    "ExecuteTime": {
     "end_time": "2024-04-13T17:24:49.022235Z",
     "start_time": "2024-04-13T17:24:48.992666Z"
    }
   },
   "source": [
    "x_test_tensor = torch.tensor(normalized_x_test, dtype=torch.float32).unsqueeze(1)\n",
    "y_test_tensor = torch.tensor(y_test, dtype=torch.long)"
   ],
   "outputs": [],
   "execution_count": 7
  },
  {
   "cell_type": "code",
   "id": "d6966b28afd61365",
   "metadata": {
    "collapsed": false,
    "jupyter": {
     "outputs_hidden": false
    },
    "ExecuteTime": {
     "end_time": "2024-04-13T17:24:49.044317Z",
     "start_time": "2024-04-13T17:24:49.024878Z"
    }
   },
   "source": [
    "# Resize images to 32x32 using interpolate\n",
    "x_train_resized = F.interpolate(x_train_tensor, size=(32, 32), mode='bilinear', align_corners=False)\n",
    "# Define dataset and data loader\n",
    "train_dataset = TensorDataset(x_train_resized, y_train_tensor)\n",
    "train_loader = DataLoader(train_dataset, batch_size=64, shuffle=True)"
   ],
   "outputs": [],
   "execution_count": 8
  },
  {
   "cell_type": "code",
   "id": "b47483b5f4c45439",
   "metadata": {
    "collapsed": false,
    "jupyter": {
     "outputs_hidden": false
    },
    "ExecuteTime": {
     "end_time": "2024-04-13T17:24:49.069636Z",
     "start_time": "2024-04-13T17:24:49.046035Z"
    }
   },
   "source": [
    "# Resize images to 32x32 using interpolate\n",
    "x_test_resized = F.interpolate(x_test_tensor, size=(32, 32), mode='bilinear', align_corners=False)\n",
    "# Define dataset and data loader\n",
    "test_dataset = TensorDataset(x_test_resized, y_test_tensor)\n",
    "test_loader = DataLoader(test_dataset, batch_size=64, shuffle=True)"
   ],
   "outputs": [],
   "execution_count": 9
  },
  {
   "cell_type": "code",
   "id": "1d51262768b54003",
   "metadata": {
    "collapsed": false,
    "jupyter": {
     "outputs_hidden": false
    },
    "ExecuteTime": {
     "end_time": "2024-04-13T17:24:50.101948Z",
     "start_time": "2024-04-13T17:24:49.071143Z"
    }
   },
   "source": [
    "# Initialize VGG11 model\n",
    "network = VGG11()\n",
    "network.to(device)\n",
    "\n",
    "# Define optimizer\n",
    "criterion = nn.CrossEntropyLoss()\n",
    "optimizer = optim.SGD(network.parameters(), lr=0.01, momentum=0.9)"
   ],
   "outputs": [],
   "execution_count": 10
  },
  {
   "cell_type": "code",
   "id": "c539765dd04edddc",
   "metadata": {
    "collapsed": false,
    "jupyter": {
     "outputs_hidden": false
    },
    "ExecuteTime": {
     "end_time": "2024-04-13T17:24:50.107332Z",
     "start_time": "2024-04-13T17:24:50.104879Z"
    }
   },
   "source": [
    "# Train the model\n",
    "accuracy_train = []\n",
    "accuracy_test = []\n",
    "train_losses = []\n",
    "test_losses = []\n"
   ],
   "outputs": [],
   "execution_count": 11
  },
  {
   "cell_type": "code",
   "id": "c6a472808bf50d8d",
   "metadata": {
    "collapsed": false,
    "jupyter": {
     "outputs_hidden": false
    },
    "ExecuteTime": {
     "end_time": "2024-04-13T17:24:50.113410Z",
     "start_time": "2024-04-13T17:24:50.108404Z"
    }
   },
   "source": [
    "\n",
    "def continue_training():\n",
    "    network.train()      # configure the network for training\n",
    "    correct_pred = 0\n",
    "    epoch_loss = 0\n",
    "    for data, target in train_loader:       # for each batch\n",
    "        data = data.to(device)\n",
    "        target = target.to(device)\n",
    "        \n",
    "        # zero the parameter gradients\n",
    "        optimizer.zero_grad()\n",
    "        \n",
    "        # forward + backward + optimize\n",
    "        output = network(data)\n",
    "        loss = criterion(output, target)\n",
    "        epoch_loss += loss.item()\n",
    "        loss.backward()\n",
    "        optimizer.step()\n",
    "        \n",
    "        pred = output.data.max(1, keepdim=True)[1]           # compute which output is largest\n",
    "        correct_pred += pred.eq(target.data.view_as(pred)).sum()  # compute the number of correct outputs\n",
    "\n",
    "    # Record the average loss for this epoch\n",
    "    epoch_loss /= len(train_loader)     # for the current iteration\n",
    "    train_losses.append(epoch_loss)\n",
    "\n",
    "    # update the list of training accuracy values\n",
    "    score = float(correct_pred/len(train_loader.dataset))\n",
    "    accuracy_train.append(score)\n",
    "\n",
    "\n",
    "def testing():\n",
    "    correct_pred_test = 0\n",
    "    epoch_loss_test = 0\n",
    "    network.eval()\n",
    "    with torch.no_grad():\n",
    "        for data, target in test_loader:  # go through the test data once (in groups of 1000)\n",
    "            data = data.to(device)\n",
    "            target = target.to(device)\n",
    "            \n",
    "            output = network(data)\n",
    "            pred = output.data.max(1, keepdim=True)[1]\n",
    "            correct_pred_test += pred.eq(target.data.view_as(pred)).sum()\n",
    "            test_loss = criterion(output, target)\n",
    "            epoch_loss_test += test_loss.item()\n",
    "    \n",
    "    # Record the average loss for this epoch\n",
    "    epoch_loss_test /= len(test_loader)     # for the current iteration\n",
    "    test_losses.append(epoch_loss_test)\n",
    "    \n",
    "    # update the list of testing accuracy values\n",
    "    score_test = float(correct_pred_test/len(test_loader.dataset))\n",
    "    accuracy_test.append(score_test)\n",
    "    # print(f\"score_test: {score_test}\")\n"
   ],
   "outputs": [],
   "execution_count": 12
  },
  {
   "cell_type": "code",
   "id": "cbb985d2aed8b1f3",
   "metadata": {
    "collapsed": false,
    "jupyter": {
     "outputs_hidden": false
    },
    "ExecuteTime": {
     "end_time": "2024-04-13T17:28:34.523367Z",
     "start_time": "2024-04-13T17:24:50.114602Z"
    }
   },
   "source": [
    "for i in range(20):\n",
    "    print(f\"{i+1}th training iteration\")\n",
    "    continue_training()\n",
    "    testing()"
   ],
   "outputs": [
    {
     "name": "stdout",
     "output_type": "stream",
     "text": [
      "1th training iteration\n",
      "2th training iteration\n",
      "3th training iteration\n",
      "4th training iteration\n",
      "5th training iteration\n",
      "6th training iteration\n",
      "7th training iteration\n",
      "8th training iteration\n",
      "9th training iteration\n",
      "10th training iteration\n",
      "11th training iteration\n",
      "12th training iteration\n",
      "13th training iteration\n",
      "14th training iteration\n",
      "15th training iteration\n",
      "16th training iteration\n",
      "17th training iteration\n",
      "18th training iteration\n",
      "19th training iteration\n",
      "20th training iteration\n"
     ]
    }
   ],
   "execution_count": 13
  },
  {
   "cell_type": "code",
   "id": "14e2a1d2b983be0f",
   "metadata": {
    "collapsed": false,
    "jupyter": {
     "outputs_hidden": false
    },
    "ExecuteTime": {
     "end_time": "2024-04-13T17:28:34.535161Z",
     "start_time": "2024-04-13T17:28:34.527699Z"
    }
   },
   "source": [
    "accuracy_train_original = accuracy_train[:]\n",
    "accuracy_test_original = accuracy_test[:]\n",
    "train_losses_original = train_losses[:]\n",
    "test_losses_original = test_losses[:]"
   ],
   "outputs": [],
   "execution_count": 14
  },
  {
   "metadata": {
    "ExecuteTime": {
     "end_time": "2024-04-13T17:28:34.540229Z",
     "start_time": "2024-04-13T17:28:34.536644Z"
    }
   },
   "cell_type": "code",
   "source": "print(len(accuracy_train_original))",
   "id": "cf064c5ea906b89a",
   "outputs": [
    {
     "name": "stdout",
     "output_type": "stream",
     "text": [
      "20\n"
     ]
    }
   ],
   "execution_count": 15
  },
  {
   "cell_type": "markdown",
   "id": "538c91c76a5b900d",
   "metadata": {
    "collapsed": false,
    "jupyter": {
     "outputs_hidden": false
    }
   },
   "source": [
    "#### Explanation on why resizing the images from 28*28 to 32*32:\n",
    "\n",
    "To fit the minimum requirement of maxpooling: 2^5 =32\n",
    "\n",
    "The VGG11 model has 5 maxpooling layers, each reduces the dimensions of the input by a factor of 2, and starting with a 32x32 image allows for 5 max-pooling operations to be applied while still maintaining a non-zero dimension."
   ]
  },
  {
   "cell_type": "markdown",
   "id": "32a9bfb02aa95486",
   "metadata": {
    "collapsed": false,
    "jupyter": {
     "outputs_hidden": false
    }
   },
   "source": "#### Plot"
  },
  {
   "cell_type": "code",
   "id": "cac12b5249d5489d",
   "metadata": {
    "collapsed": false,
    "jupyter": {
     "outputs_hidden": false
    },
    "ExecuteTime": {
     "end_time": "2024-04-13T17:28:35.058607Z",
     "start_time": "2024-04-13T17:28:34.541513Z"
    }
   },
   "source": [
    "plt.figure(figsize=(12,4))\n",
    "plt.plot(accuracy_train_original, label='training accuracies')\n",
    "plt.plot(accuracy_test_original, label='test accuracies')\n",
    "plt.legend()\n",
    "plt.xlabel('training iterations')\n",
    "plt.ylabel('accuracy')\n",
    "plt.title('Original (ReLU): Training and Test Accuracies')\n",
    "plt.xticks(np.arange(0, len(accuracy_train_original), 1))\n",
    "plt.show()"
   ],
   "outputs": [
    {
     "data": {
      "text/plain": [
       "<Figure size 1200x400 with 1 Axes>"
      ],
      "image/png": "[encoded data removed]"
     },
     "metadata": {},
     "output_type": "display_data"
    }
   ],
   "execution_count": 16
  },
  {
   "cell_type": "code",
   "id": "7ff69ea97292dc13",
   "metadata": {
    "collapsed": false,
    "jupyter": {
     "outputs_hidden": false
    },
    "ExecuteTime": {
     "end_time": "2024-04-13T17:28:35.235191Z",
     "start_time": "2024-04-13T17:28:35.060251Z"
    }
   },
   "source": [
    "plt.figure(figsize=(12,4))\n",
    "plt.plot(train_losses_original, label='training losses')\n",
    "plt.plot(test_losses_original, label='test losses')\n",
    "plt.legend()\n",
    "plt.xlabel('training iterations')\n",
    "plt.ylabel('losses')\n",
    "plt.title('E2.1+2.2 Original: Training and Test Losses')\n",
    "plt.xticks(np.arange(0, len(accuracy_train_original), 1))\n",
    "plt.show()"
   ],
   "outputs": [
    {
     "data": {
      "text/plain": [
       "<Figure size 1200x400 with 1 Axes>"
      ],
      "image/png": "[encoded data removed]"
     },
     "metadata": {},
     "output_type": "display_data"
    }
   ],
   "execution_count": 17
  },
  {
   "cell_type": "markdown",
   "id": "8d28c295ad2c7f67",
   "metadata": {
    "collapsed": false,
    "jupyter": {
     "outputs_hidden": false
    }
   },
   "source": "#### 2. Replace ReLU with Sigmoid"
  },
  {
   "cell_type": "code",
   "id": "2c2d82a567511493",
   "metadata": {
    "collapsed": false,
    "jupyter": {
     "outputs_hidden": false
    },
    "ExecuteTime": {
     "end_time": "2024-04-13T17:28:35.242188Z",
     "start_time": "2024-04-13T17:28:35.237257Z"
    }
   },
   "source": [
    "# # Define VGG11 network\n",
    "# class VGG11(nn.Module):\n",
    "#     def __init__(self):\n",
    "#         super(VGG11, self).__init__()\n",
    "#         self.conv_layers = nn.Sequential(\n",
    "#             nn.Conv2d(1, 64, kernel_size=3, stride=1, padding=1),\n",
    "#             nn.BatchNorm2d(64),\n",
    "#             nn.Sigmoid(),\n",
    "#             nn.MaxPool2d(kernel_size=2, stride=2),\n",
    "#             nn.Conv2d(64, 128, kernel_size=3, stride=1, padding=1),\n",
    "#             nn.BatchNorm2d(128),\n",
    "#             nn.Sigmoid(),\n",
    "#             nn.MaxPool2d(kernel_size=2, stride=2),\n",
    "#             nn.Conv2d(128, 256, kernel_size=3, stride=1, padding=1),\n",
    "#             nn.BatchNorm2d(256),\n",
    "#             nn.Sigmoid(),\n",
    "#             nn.Conv2d(256, 256, kernel_size=3, stride=1, padding=1),\n",
    "#             nn.BatchNorm2d(256),\n",
    "#             nn.Sigmoid(),\n",
    "#             nn.MaxPool2d(kernel_size=2, stride=2),\n",
    "#             nn.Conv2d(256, 512, kernel_size=3, stride=1, padding=1),\n",
    "#             nn.BatchNorm2d(512),\n",
    "#             nn.Sigmoid(),\n",
    "#             nn.Conv2d(512, 512, kernel_size=3, stride=1, padding=1),\n",
    "#             nn.BatchNorm2d(512),\n",
    "#             nn.Sigmoid(),\n",
    "#             nn.MaxPool2d(kernel_size=2, stride=2),\n",
    "#             nn.Conv2d(512, 512, kernel_size=3, stride=1, padding=1),\n",
    "#             nn.BatchNorm2d(512),\n",
    "#             nn.Sigmoid(),\n",
    "#             nn.Conv2d(512, 512, kernel_size=3, stride=1, padding=1),\n",
    "#             nn.BatchNorm2d(512),\n",
    "#             nn.Sigmoid(),\n",
    "#             nn.MaxPool2d(kernel_size=2, stride=2)\n",
    "#         )\n",
    "#         self.fc_layers = nn.Sequential(\n",
    "#             nn.Linear(512, 4096),\n",
    "#             nn.Sigmoid(),\n",
    "#             nn.Dropout(0.5),\n",
    "#             nn.Linear(4096, 4096),\n",
    "#             nn.Sigmoid(),\n",
    "#             nn.Dropout(0.5),\n",
    "#             nn.Linear(4096, 10)\n",
    "#         )\n",
    "# \n",
    "# \n",
    "#     def forward(self, x):\n",
    "#         x = self.conv_layers(x)\n",
    "#         x = x.view(x.size(0), -1)   # Flatten it for the linear part\n",
    "#         x = self.fc_layers(x)     # Send it to the fully-connected layers\n",
    "#         return x\n"
   ],
   "outputs": [],
   "execution_count": 18
  },
  {
   "cell_type": "code",
   "id": "bf416dd6ccdf6658",
   "metadata": {
    "collapsed": false,
    "jupyter": {
     "outputs_hidden": false
    },
    "ExecuteTime": {
     "end_time": "2024-04-13T17:28:35.247122Z",
     "start_time": "2024-04-13T17:28:35.244181Z"
    }
   },
   "source": [
    "# # Initialize VGG11 model\n",
    "# network = VGG11()\n",
    "# \n",
    "# # Define optimizer\n",
    "# criterion = nn.CrossEntropyLoss()\n",
    "# optimizer = optim.SGD(network.parameters(), lr=0.01, momentum=0.9)"
   ],
   "outputs": [],
   "execution_count": 19
  },
  {
   "cell_type": "code",
   "id": "3404368ad9c44e26",
   "metadata": {
    "collapsed": false,
    "jupyter": {
     "outputs_hidden": false
    },
    "ExecuteTime": {
     "end_time": "2024-04-13T17:28:35.253898Z",
     "start_time": "2024-04-13T17:28:35.249637Z"
    }
   },
   "source": [
    "# # Train the model\n",
    "# accuracy_train = []\n",
    "# accuracy_test = []\n",
    "# train_losses = []\n",
    "# test_losses = []"
   ],
   "outputs": [],
   "execution_count": 20
  },
  {
   "cell_type": "code",
   "id": "633c1d900a8468d",
   "metadata": {
    "collapsed": false,
    "jupyter": {
     "outputs_hidden": false
    },
    "ExecuteTime": {
     "end_time": "2024-04-13T17:28:35.260756Z",
     "start_time": "2024-04-13T17:28:35.256875Z"
    }
   },
   "source": [
    "# for i in range(20):\n",
    "#     print(f\"{i+1}th training iteration\")\n",
    "#     continue_training()\n",
    "#     testing()"
   ],
   "outputs": [],
   "execution_count": 21
  },
  {
   "cell_type": "code",
   "id": "5110471b54fec13d",
   "metadata": {
    "collapsed": false,
    "jupyter": {
     "outputs_hidden": false
    },
    "ExecuteTime": {
     "end_time": "2024-04-13T17:28:35.266488Z",
     "start_time": "2024-04-13T17:28:35.262592Z"
    }
   },
   "source": [
    "# accuracy_train_sigmoid = accuracy_train[:]\n",
    "# accuracy_test_sigmoid = accuracy_test[:]\n",
    "# train_losses_sigmoid = train_losses[:]\n",
    "# test_losses_sigmoid = test_losses[:]"
   ],
   "outputs": [],
   "execution_count": 22
  },
  {
   "metadata": {
    "ExecuteTime": {
     "end_time": "2024-04-13T17:28:35.272205Z",
     "start_time": "2024-04-13T17:28:35.268442Z"
    }
   },
   "cell_type": "code",
   "source": "# print(len(accuracy_test_sigmoid))",
   "id": "95ac47a42231ca5e",
   "outputs": [],
   "execution_count": 23
  },
  {
   "cell_type": "code",
   "id": "61f2dce16cbc603f",
   "metadata": {
    "collapsed": false,
    "jupyter": {
     "outputs_hidden": false
    },
    "ExecuteTime": {
     "end_time": "2024-04-13T17:28:35.277666Z",
     "start_time": "2024-04-13T17:28:35.274433Z"
    }
   },
   "source": [
    "# plt.figure(figsize=(12,4))\n",
    "# plt.plot(accuracy_train_original, label='training accuracies')\n",
    "# plt.plot(accuracy_test_original, label='test accuracies')\n",
    "# plt.plot(accuracy_train_sigmoid, label='training accuracies (sigmoid)', linestyle='--')\n",
    "# plt.plot(accuracy_test_sigmoid, label='test accuracies (sigmoid)', linestyle='--')\n",
    "# plt.legend()\n",
    "# plt.xlabel('training iterations')\n",
    "# plt.ylabel('accuracy')\n",
    "# plt.title('Test 2: Original vs Sigmoid activation function: Training and Test Accuracies')\n",
    "# plt.xticks(np.arange(0, len(accuracy_train), 1))\n",
    "# plt.show()"
   ],
   "outputs": [],
   "execution_count": 24
  },
  {
   "metadata": {},
   "cell_type": "markdown",
   "source": "#### 3. Replace ReLU with ADA",
   "id": "ad0c8256cdcbff7"
  },
  {
   "metadata": {
    "ExecuteTime": {
     "end_time": "2024-04-13T17:32:21.265845Z",
     "start_time": "2024-04-13T17:32:21.248768Z"
    }
   },
   "cell_type": "code",
   "source": [
    "class CustomActivation(nn.Module):\n",
    "    def __init__(self, alpha=0.5):\n",
    "        super(CustomActivation, self).__init__()\n",
    "        # self.name = name\n",
    "        self.alpha = alpha\n",
    "\n",
    "    def forward(self, x):\n",
    "        return torch.maximum(x, torch.tensor(0.)) * torch.exp(-x * self.alpha)"
   ],
   "id": "675aa904ded96dce",
   "outputs": [],
   "execution_count": 29
  },
  {
   "metadata": {
    "ExecuteTime": {
     "end_time": "2024-04-13T17:32:21.524144Z",
     "start_time": "2024-04-13T17:32:21.505262Z"
    }
   },
   "cell_type": "code",
   "source": [
    "# Define VGG11 network\n",
    "class VGG11(nn.Module):\n",
    "    def __init__(self):\n",
    "        super(VGG11, self).__init__()\n",
    "        self.conv_layers = nn.Sequential(\n",
    "            nn.Conv2d(1, 64, kernel_size=3, stride=1, padding=1),\n",
    "            nn.BatchNorm2d(64),\n",
    "            CustomActivation(),\n",
    "            nn.MaxPool2d(kernel_size=2, stride=2),\n",
    "            nn.Conv2d(64, 128, kernel_size=3, stride=1, padding=1),\n",
    "            nn.BatchNorm2d(128),\n",
    "            CustomActivation(),\n",
    "            nn.MaxPool2d(kernel_size=2, stride=2),\n",
    "            nn.Conv2d(128, 256, kernel_size=3, stride=1, padding=1),\n",
    "            nn.BatchNorm2d(256),\n",
    "            CustomActivation(),\n",
    "            nn.Conv2d(256, 256, kernel_size=3, stride=1, padding=1),\n",
    "            nn.BatchNorm2d(256),\n",
    "            CustomActivation(),\n",
    "            nn.MaxPool2d(kernel_size=2, stride=2),\n",
    "            nn.Conv2d(256, 512, kernel_size=3, stride=1, padding=1),\n",
    "            nn.BatchNorm2d(512),\n",
    "            CustomActivation(),\n",
    "            nn.Conv2d(512, 512, kernel_size=3, stride=1, padding=1),\n",
    "            nn.BatchNorm2d(512),\n",
    "            CustomActivation(),\n",
    "            nn.MaxPool2d(kernel_size=2, stride=2),\n",
    "            nn.Conv2d(512, 512, kernel_size=3, stride=1, padding=1),\n",
    "            nn.BatchNorm2d(512),\n",
    "            CustomActivation(),\n",
    "            nn.Conv2d(512, 512, kernel_size=3, stride=1, padding=1),\n",
    "            nn.BatchNorm2d(512),\n",
    "            CustomActivation(),\n",
    "            nn.MaxPool2d(kernel_size=2, stride=2)\n",
    "        )\n",
    "        self.fc_layers = nn.Sequential(\n",
    "            nn.Linear(512, 4096),\n",
    "            CustomActivation(),\n",
    "            nn.Dropout(0.5),\n",
    "            nn.Linear(4096, 4096),\n",
    "            CustomActivation(),\n",
    "            nn.Dropout(0.5),\n",
    "            nn.Linear(4096, 10)\n",
    "        )\n",
    "\n",
    "    def forward(self, x):\n",
    "        x = self.conv_layers(x)\n",
    "        x = x.view(x.size(0), -1)\n",
    "        x = self.fc_layers(x)\n",
    "        return x\n"
   ],
   "id": "c1c9caf88c496ca7",
   "outputs": [],
   "execution_count": 30
  },
  {
   "metadata": {
    "ExecuteTime": {
     "end_time": "2024-04-13T17:32:21.595808Z",
     "start_time": "2024-04-13T17:32:21.590073Z"
    }
   },
   "cell_type": "code",
   "source": [
    "device = 'cpu'\n",
    "# Check if MPS is supported and available\n",
    "if torch.backends.mps.is_available():\n",
    "    print(\"MPS is available on this device.\")\n",
    "    device = torch.device(\"mps\")  # Use MPS device\n",
    "else:\n",
    "    print(\"MPS not available, using CPU instead.\")\n",
    "    device = torch.device(\"cpu\")  # Fallback to CPU"
   ],
   "id": "663fc90673d3173e",
   "outputs": [
    {
     "name": "stdout",
     "output_type": "stream",
     "text": [
      "MPS is available on this device.\n"
     ]
    }
   ],
   "execution_count": 31
  },
  {
   "metadata": {
    "ExecuteTime": {
     "end_time": "2024-04-13T17:32:22.295921Z",
     "start_time": "2024-04-13T17:32:21.661446Z"
    }
   },
   "cell_type": "code",
   "source": [
    "# Initialize VGG11 model\n",
    "network = VGG11()\n",
    "network.to(device)\n",
    "\n",
    "\n",
    "# Define optimizer\n",
    "criterion = nn.CrossEntropyLoss()\n",
    "optimizer = optim.SGD(network.parameters(), lr=0.01, momentum=0.9)"
   ],
   "id": "a7d9784c37bdd0d4",
   "outputs": [],
   "execution_count": 32
  },
  {
   "metadata": {
    "ExecuteTime": {
     "end_time": "2024-04-13T17:32:22.302166Z",
     "start_time": "2024-04-13T17:32:22.298773Z"
    }
   },
   "cell_type": "code",
   "source": [
    "# Train the model\n",
    "accuracy_train = []\n",
    "accuracy_test = []\n",
    "train_losses = []\n",
    "test_losses = []"
   ],
   "id": "13a6f46227414b3c",
   "outputs": [],
   "execution_count": 33
  },
  {
   "metadata": {
    "ExecuteTime": {
     "end_time": "2024-04-13T17:37:19.958660Z",
     "start_time": "2024-04-13T17:32:22.303518Z"
    }
   },
   "cell_type": "code",
   "source": [
    "for i in range(20):\n",
    "    print(f\"{i+1}th training iteration\")\n",
    "    continue_training()\n",
    "    testing()"
   ],
   "id": "be5bd75566db9055",
   "outputs": [
    {
     "name": "stdout",
     "output_type": "stream",
     "text": [
      "1th training iteration\n",
      "2th training iteration\n",
      "3th training iteration\n",
      "4th training iteration\n",
      "5th training iteration\n",
      "6th training iteration\n",
      "7th training iteration\n",
      "8th training iteration\n",
      "9th training iteration\n",
      "10th training iteration\n",
      "11th training iteration\n",
      "12th training iteration\n",
      "13th training iteration\n",
      "14th training iteration\n",
      "15th training iteration\n",
      "16th training iteration\n",
      "17th training iteration\n",
      "18th training iteration\n",
      "19th training iteration\n",
      "20th training iteration\n"
     ]
    }
   ],
   "execution_count": 34
  },
  {
   "metadata": {
    "ExecuteTime": {
     "end_time": "2024-04-13T17:37:19.972878Z",
     "start_time": "2024-04-13T17:37:19.965199Z"
    }
   },
   "cell_type": "code",
   "source": "print(len(accuracy_train))",
   "id": "27c42b8020b080ee",
   "outputs": [
    {
     "name": "stdout",
     "output_type": "stream",
     "text": [
      "20\n"
     ]
    }
   ],
   "execution_count": 35
  },
  {
   "metadata": {
    "ExecuteTime": {
     "end_time": "2024-04-13T17:37:19.979393Z",
     "start_time": "2024-04-13T17:37:19.975464Z"
    }
   },
   "cell_type": "code",
   "source": "print(accuracy_test)",
   "id": "2a8092f718a90093",
   "outputs": [
    {
     "name": "stdout",
     "output_type": "stream",
     "text": [
      "[0.47110000252723694, 0.8416000008583069, 0.8377000093460083, 0.9458000063896179, 0.8065999746322632, 0.957099974155426, 0.9692999720573425, 0.9343000054359436, 0.9532999992370605, 0.9574000239372253, 0.9697999954223633, 0.9800000190734863, 0.9480000138282776, 0.9743000268936157, 0.9745000004768372, 0.9685999751091003, 0.9753999710083008, 0.9732999801635742, 0.9789000153541565, 0.9812999963760376]\n"
     ]
    }
   ],
   "execution_count": 36
  },
  {
   "metadata": {
    "ExecuteTime": {
     "end_time": "2024-04-13T17:37:19.985618Z",
     "start_time": "2024-04-13T17:37:19.981354Z"
    }
   },
   "cell_type": "code",
   "source": [
    "accuracy_train_ada = accuracy_train[:]\n",
    "accuracy_test_ada = accuracy_test[:]\n",
    "train_losses_ada = train_losses[:]\n",
    "test_losses_ada = test_losses[:]"
   ],
   "id": "47dea2cdfb70599a",
   "outputs": [],
   "execution_count": 37
  },
  {
   "metadata": {
    "ExecuteTime": {
     "end_time": "2024-04-13T17:37:20.739391Z",
     "start_time": "2024-04-13T17:37:19.987622Z"
    }
   },
   "cell_type": "code",
   "source": [
    "plt.figure(figsize=(12,4))\n",
    "plt.plot(accuracy_train_original, label='training accuracies')\n",
    "plt.plot(accuracy_test_original, label='test accuracies')\n",
    "plt.plot(accuracy_train_ada, label='training accuracies (ada)', linestyle='--')\n",
    "plt.plot(accuracy_test_ada, label='test accuracies (ada)', linestyle='--')\n",
    "plt.legend()\n",
    "plt.xlabel('training iterations')\n",
    "plt.ylabel('accuracy')\n",
    "plt.title('Test 3: Original vs ADA activation function: Training and Test Accuracies')\n",
    "plt.xticks(np.arange(0, len(accuracy_train), 1))\n",
    "plt.show()"
   ],
   "id": "26d6d5690a8fe20d",
   "outputs": [
    {
     "data": {
      "text/plain": [
       "<Figure size 1200x400 with 1 Axes>"
      ],
      "image/png": "[encoded data removed]"
     },
     "metadata": {},
     "output_type": "display_data"
    }
   ],
   "execution_count": 38
  },
  {
   "metadata": {},
   "cell_type": "markdown",
   "source": "#### 4. Replace ReLU with Leaky ADA",
   "id": "4aa570f0211efdcd"
  },
  {
   "metadata": {
    "ExecuteTime": {
     "end_time": "2024-04-13T17:37:20.755959Z",
     "start_time": "2024-04-13T17:37:20.742212Z"
    }
   },
   "cell_type": "code",
   "source": [
    "class CustomActivation(nn.Module):\n",
    "    def __init__(self, name=\"Leaky_ADA\", alpha=0.5, leak=0.01):\n",
    "        super(CustomActivation, self).__init__()\n",
    "        self.name = name\n",
    "        self.alpha = alpha\n",
    "        self.leak = leak\n",
    "\n",
    "    def forward(self, x):\n",
    "        return self.leak * torch.min(x, torch.tensor(0.0)) + torch.max(x, torch.tensor(0.0)) * torch.exp(-x * self.alpha)"
   ],
   "id": "e6c1f078548a8e8",
   "outputs": [],
   "execution_count": 39
  },
  {
   "metadata": {
    "ExecuteTime": {
     "end_time": "2024-04-13T17:37:20.763580Z",
     "start_time": "2024-04-13T17:37:20.758137Z"
    }
   },
   "cell_type": "code",
   "source": [
    "device = 'cpu'\n",
    "# Check if MPS is supported and available\n",
    "if torch.backends.mps.is_available():\n",
    "    print(\"MPS is available on this device.\")\n",
    "    device = torch.device(\"mps\")  # Use MPS device\n",
    "else:\n",
    "    print(\"MPS not available, using CPU instead.\")\n",
    "    device = torch.device(\"cpu\")  # Fallback to CPU"
   ],
   "id": "6aaa5e9693b43259",
   "outputs": [
    {
     "name": "stdout",
     "output_type": "stream",
     "text": [
      "MPS is available on this device.\n"
     ]
    }
   ],
   "execution_count": 40
  },
  {
   "metadata": {
    "ExecuteTime": {
     "end_time": "2024-04-13T17:37:21.024161Z",
     "start_time": "2024-04-13T17:37:20.771103Z"
    }
   },
   "cell_type": "code",
   "source": [
    "# Initialize VGG11 model\n",
    "network = VGG11()\n",
    "network.to(device)\n",
    "\n",
    "# Define optimizer\n",
    "criterion = nn.CrossEntropyLoss()\n",
    "optimizer = optim.SGD(network.parameters(), lr=0.01, momentum=0.9)"
   ],
   "id": "ba766aa4c20ae876",
   "outputs": [],
   "execution_count": 41
  },
  {
   "metadata": {
    "ExecuteTime": {
     "end_time": "2024-04-13T17:37:21.028630Z",
     "start_time": "2024-04-13T17:37:21.025418Z"
    }
   },
   "cell_type": "code",
   "source": [
    "# Train the model\n",
    "accuracy_train = []\n",
    "accuracy_test = []\n",
    "train_losses = []\n",
    "test_losses = []"
   ],
   "id": "ed89261308457e61",
   "outputs": [],
   "execution_count": 42
  },
  {
   "metadata": {
    "ExecuteTime": {
     "end_time": "2024-04-13T17:43:20.941042Z",
     "start_time": "2024-04-13T17:37:21.030570Z"
    }
   },
   "cell_type": "code",
   "source": [
    "for i in range(20):\n",
    "    print(f\"{i+1}th training iteration\")\n",
    "    continue_training()\n",
    "    testing()"
   ],
   "id": "a0d4e7d76f6bdf82",
   "outputs": [
    {
     "name": "stdout",
     "output_type": "stream",
     "text": [
      "1th training iteration\n",
      "2th training iteration\n",
      "3th training iteration\n",
      "4th training iteration\n",
      "5th training iteration\n",
      "6th training iteration\n",
      "7th training iteration\n",
      "8th training iteration\n",
      "9th training iteration\n",
      "10th training iteration\n",
      "11th training iteration\n",
      "12th training iteration\n",
      "13th training iteration\n",
      "14th training iteration\n",
      "15th training iteration\n",
      "16th training iteration\n",
      "17th training iteration\n",
      "18th training iteration\n",
      "19th training iteration\n",
      "20th training iteration\n"
     ]
    }
   ],
   "execution_count": 43
  },
  {
   "metadata": {
    "ExecuteTime": {
     "end_time": "2024-04-13T17:43:20.951483Z",
     "start_time": "2024-04-13T17:43:20.945338Z"
    }
   },
   "cell_type": "code",
   "source": [
    "accuracy_train_leaky_ada = accuracy_train[:]\n",
    "accuracy_test_leaky_ada = accuracy_test[:]\n",
    "train_losses_leaky_ada = train_losses[:]\n",
    "test_losses_leaky_ada = test_losses[:]"
   ],
   "id": "61ec227a34f295ac",
   "outputs": [],
   "execution_count": 44
  },
  {
   "metadata": {
    "ExecuteTime": {
     "end_time": "2024-04-13T17:43:20.957255Z",
     "start_time": "2024-04-13T17:43:20.953203Z"
    }
   },
   "cell_type": "code",
   "source": "print(accuracy_train_leaky_ada)",
   "id": "8e333b6615b3aa2",
   "outputs": [
    {
     "name": "stdout",
     "output_type": "stream",
     "text": [
      "[0.30649998784065247, 0.7940000295639038, 0.9235000014305115, 0.956166684627533, 0.9660000205039978, 0.9751666784286499, 0.9758333563804626, 0.9850000143051147, 0.9904999732971191, 0.9948333501815796, 0.9911666512489319, 0.9934999942779541, 0.9946666955947876, 0.9936666488647461, 0.9963333606719971, 0.9986666440963745, 0.9963333606719971, 0.996999979019165, 0.9976666569709778, 0.9955000281333923]\n"
     ]
    }
   ],
   "execution_count": 45
  },
  {
   "metadata": {
    "ExecuteTime": {
     "end_time": "2024-04-13T17:43:20.960293Z",
     "start_time": "2024-04-13T17:43:20.958210Z"
    }
   },
   "cell_type": "code",
   "source": "print(accuracy_test_leaky_ada)",
   "id": "82cdc9837cecd5c5",
   "outputs": [
    {
     "name": "stdout",
     "output_type": "stream",
     "text": [
      "[0.6085000038146973, 0.7839999794960022, 0.9362000226974487, 0.8810999989509583, 0.9624999761581421, 0.8248000144958496, 0.9631999731063843, 0.953499972820282, 0.9747999906539917, 0.9736999869346619, 0.9785000085830688, 0.9575999975204468, 0.9671000242233276, 0.9567999839782715, 0.9814000129699707, 0.9828000068664551, 0.9796000123023987, 0.9811999797821045, 0.9800999760627747, 0.9718000292778015]\n"
     ]
    }
   ],
   "execution_count": 46
  },
  {
   "metadata": {
    "ExecuteTime": {
     "end_time": "2024-04-13T17:45:57.776669Z",
     "start_time": "2024-04-13T17:45:57.531484Z"
    }
   },
   "cell_type": "code",
   "source": [
    "plt.figure(figsize=(12,4))\n",
    "plt.plot(accuracy_train_original, label='training accuracies')\n",
    "plt.plot(accuracy_test_original, label='test accuracies')\n",
    "# plt.plot(accuracy_train_ada, label='training accuracies (ada)', linestyle='--')\n",
    "# plt.plot(accuracy_test_ada, label='test accuracies (ada)', linestyle='--')\n",
    "plt.plot(accuracy_train_leaky_ada, label='training accuracies (leaky ada)', linestyle='-.')\n",
    "plt.plot(accuracy_test_leaky_ada, label='test accuracies (leaky ada)', linestyle='-.')\n",
    "\n",
    "plt.legend()\n",
    "plt.xlabel('training iterations')\n",
    "plt.ylabel('accuracy')\n",
    "plt.title('Test 4: Original vs Leaky ADA activation function: Training and Test Accuracies')\n",
    "plt.xticks(np.arange(0, len(accuracy_train), 1))\n",
    "plt.show()"
   ],
   "id": "65a0494f1d268bf2",
   "outputs": [
    {
     "data": {
      "text/plain": [
       "<Figure size 1200x400 with 1 Axes>"
      ],
      "image/png": "[encoded data removed]"
     },
     "metadata": {},
     "output_type": "display_data"
    }
   ],
   "execution_count": 67
  },
  {
   "metadata": {},
   "cell_type": "markdown",
   "source": "### 5. With Swish",
   "id": "3818b1cdc332fec"
  },
  {
   "metadata": {
    "ExecuteTime": {
     "end_time": "2024-04-13T17:43:21.187676Z",
     "start_time": "2024-04-13T17:43:21.184480Z"
    }
   },
   "cell_type": "code",
   "source": [
    "# class CustomActivation(nn.Module):\n",
    "#     def __init__(self, name=\"Swish\", alpha=1.0):\n",
    "#         super(CustomActivation, self).__init__()\n",
    "#         self.name = name\n",
    "#         self.alpha = alpha\n",
    "# \n",
    "#     def forward(self, x):\n",
    "#         return x * torch.sigmoid(self.alpha * x)"
   ],
   "id": "187d8c92f549b906",
   "outputs": [],
   "execution_count": 48
  },
  {
   "metadata": {
    "ExecuteTime": {
     "end_time": "2024-04-13T17:43:21.192377Z",
     "start_time": "2024-04-13T17:43:21.189445Z"
    }
   },
   "cell_type": "code",
   "source": [
    "# device = 'cpu'\n",
    "# # Check if MPS is supported and available\n",
    "# if torch.backends.mps.is_available():\n",
    "#     print(\"MPS is available on this device.\")\n",
    "#     device = torch.device(\"mps\")  # Use MPS device\n",
    "# else:\n",
    "#     print(\"MPS not available, using CPU instead.\")\n",
    "#     device = torch.device(\"cpu\")  # Fallback to CPU"
   ],
   "id": "972d76f03a45c71a",
   "outputs": [],
   "execution_count": 49
  },
  {
   "metadata": {
    "ExecuteTime": {
     "end_time": "2024-04-13T17:43:21.197432Z",
     "start_time": "2024-04-13T17:43:21.194333Z"
    }
   },
   "cell_type": "code",
   "source": [
    "# # Initialize VGG11 model\n",
    "# network = VGG11()\n",
    "# network.to(device)\n",
    "# \n",
    "# # Define optimizer\n",
    "# criterion = nn.CrossEntropyLoss()\n",
    "# optimizer = optim.SGD(network.parameters(), lr=0.01, momentum=0.9)"
   ],
   "id": "8bc67704bebef8ea",
   "outputs": [],
   "execution_count": 50
  },
  {
   "metadata": {
    "ExecuteTime": {
     "end_time": "2024-04-13T17:43:21.201664Z",
     "start_time": "2024-04-13T17:43:21.199271Z"
    }
   },
   "cell_type": "code",
   "source": [
    "# # Train the model\n",
    "# accuracy_train = []\n",
    "# accuracy_test = []\n",
    "# train_losses = []\n",
    "# test_losses = []"
   ],
   "id": "2cb3079ac803cc81",
   "outputs": [],
   "execution_count": 51
  },
  {
   "metadata": {
    "ExecuteTime": {
     "end_time": "2024-04-13T17:43:21.206867Z",
     "start_time": "2024-04-13T17:43:21.204158Z"
    }
   },
   "cell_type": "code",
   "source": [
    "# for i in range(20):\n",
    "#     print(f\"{i+1}th training iteration\")\n",
    "#     continue_training()\n",
    "#     testing()"
   ],
   "id": "7d4d45c47bdd0216",
   "outputs": [],
   "execution_count": 52
  },
  {
   "metadata": {
    "ExecuteTime": {
     "end_time": "2024-04-13T17:43:21.211314Z",
     "start_time": "2024-04-13T17:43:21.208142Z"
    }
   },
   "cell_type": "code",
   "source": [
    "# accuracy_train_swish = accuracy_train[:]\n",
    "# accuracy_test_swish = accuracy_test[:]\n",
    "# train_losses_swish = train_losses[:]\n",
    "# test_losses_swish = test_losses[:]"
   ],
   "id": "9c76d27f89c8e768",
   "outputs": [],
   "execution_count": 53
  },
  {
   "metadata": {
    "ExecuteTime": {
     "end_time": "2024-04-13T17:43:21.215743Z",
     "start_time": "2024-04-13T17:43:21.213142Z"
    }
   },
   "cell_type": "code",
   "source": "# print(accuracy_train_swish)",
   "id": "23d14d248e8158cf",
   "outputs": [],
   "execution_count": 54
  },
  {
   "metadata": {
    "ExecuteTime": {
     "end_time": "2024-04-13T17:43:21.220430Z",
     "start_time": "2024-04-13T17:43:21.217587Z"
    }
   },
   "cell_type": "code",
   "source": "# print(accuracy_test_swish)",
   "id": "364c311d12a89a60",
   "outputs": [],
   "execution_count": 55
  },
  {
   "metadata": {
    "ExecuteTime": {
     "end_time": "2024-04-13T17:43:21.225928Z",
     "start_time": "2024-04-13T17:43:21.222424Z"
    }
   },
   "cell_type": "code",
   "source": [
    "# plt.figure(figsize=(12,4))\n",
    "# # plt.plot(accuracy_train_original, label='training accuracies')\n",
    "# # plt.plot(accuracy_test_original, label='test accuracies')\n",
    "# # plt.plot(accuracy_train_ada, label='training accuracies (ada)', linestyle='--')\n",
    "# # plt.plot(accuracy_test_ada, label='test accuracies (ada)', linestyle='--')\n",
    "# plt.plot(accuracy_train_leaky_ada, label='training accuracies (leaky ada)', linestyle='-.')\n",
    "# plt.plot(accuracy_test_leaky_ada, label='test accuracies (leaky ada)', linestyle='-.')\n",
    "# plt.plot(accuracy_train_swish, label='training accuracies (swish)', linestyle='-.')\n",
    "# plt.plot(accuracy_test_swish, label='test accuracies (swish)', linestyle='-.')\n",
    "# \n",
    "# plt.legend()\n",
    "# plt.xlabel('training iterations')\n",
    "# plt.ylabel('accuracy')\n",
    "# plt.title('Test 4: Original vs Leaky ADA activation function: Training and Test Accuracies')\n",
    "# plt.xticks(np.arange(0, len(accuracy_train), 1))\n",
    "# plt.show()"
   ],
   "id": "4188dc528b73419a",
   "outputs": [],
   "execution_count": 56
  },
  {
   "metadata": {
    "ExecuteTime": {
     "end_time": "2024-04-13T17:43:21.231092Z",
     "start_time": "2024-04-13T17:43:21.228460Z"
    }
   },
   "cell_type": "code",
   "source": [
    "# from torchsummary import summary\n",
    "# device = torch.device('cuda' if torch.cuda.is_available() else 'cpu')\n",
    "# network.to(device)\n",
    "# summary(network, (1, 32, 32))"
   ],
   "id": "10bd5ee84438d0e9",
   "outputs": [],
   "execution_count": 57
  },
  {
   "metadata": {},
   "cell_type": "markdown",
   "source": "## Reduce the number of neurons",
   "id": "259d6eeaf4d81244"
  },
  {
   "metadata": {
    "ExecuteTime": {
     "end_time": "2024-04-13T17:43:21.235783Z",
     "start_time": "2024-04-13T17:43:21.233063Z"
    }
   },
   "cell_type": "code",
   "source": [
    "# class CustomActivation(nn.Module):\n",
    "#     def __init__(self, name=\"Leaky_ADA\", alpha=0.5, leak=0.01):\n",
    "#         super(CustomActivation, self).__init__()\n",
    "#         self.name = name\n",
    "#         self.alpha = alpha\n",
    "#         self.leak = leak\n",
    "# \n",
    "#     def forward(self, x):\n",
    "#         return self.leak * torch.min(x, torch.tensor(0.0)) + torch.max(x, torch.tensor(0.0)) * torch.exp(-x * self.alpha)"
   ],
   "id": "f9bfdcc1e691cd5d",
   "outputs": [],
   "execution_count": 58
  },
  {
   "metadata": {
    "ExecuteTime": {
     "end_time": "2024-04-13T17:43:21.253365Z",
     "start_time": "2024-04-13T17:43:21.249682Z"
    }
   },
   "cell_type": "code",
   "source": [
    "# class LeNet5(nn.Module):\n",
    "#     def __init__(self, num_classes=10):\n",
    "#         super(LeNet5, self).__init__()\n",
    "#         self.conv1 = nn.Conv2d(1, 6, kernel_size=5)\n",
    "#         self.conv2 = nn.Conv2d(6, 16, kernel_size=5)\n",
    "#         self.fc1 = nn.Linear(16*5*5, 120)\n",
    "#         self.fc2 = nn.Linear(120, 84)\n",
    "#         self.fc3 = nn.Linear(84, num_classes)\n",
    "#         self.activation = CustomActivation()  # \n",
    "# \n",
    "#     def forward(self, x):\n",
    "#         x = nn.functional.avg_pool2d(self.activation(self.conv1(x)), kernel_size=2, stride=2)\n",
    "#         x = nn.functional.avg_pool2d(self.activation(self.conv2(x)), kernel_size=2, stride=2)\n",
    "#         x = torch.flatten(x, 1)\n",
    "#         x = self.activation(self.fc1(x))\n",
    "#         x = self.activation(self.fc2(x))\n",
    "#         x = self.fc3(x)\n",
    "#         return x"
   ],
   "id": "53844ed79622db12",
   "outputs": [],
   "execution_count": 59
  },
  {
   "metadata": {
    "ExecuteTime": {
     "end_time": "2024-04-13T17:43:21.264421Z",
     "start_time": "2024-04-13T17:43:21.256020Z"
    }
   },
   "cell_type": "code",
   "source": "",
   "id": "2bbfc80cdf68962a",
   "outputs": [],
   "execution_count": 59
  },
  {
   "metadata": {
    "ExecuteTime": {
     "end_time": "2024-04-13T17:43:21.278282Z",
     "start_time": "2024-04-13T17:43:21.273802Z"
    }
   },
   "cell_type": "code",
   "source": [
    "# device = 'cpu'\n",
    "# # Check if MPS is supported and available\n",
    "# if torch.backends.mps.is_available():\n",
    "#     print(\"MPS is available on this device.\")\n",
    "#     device = torch.device(\"mps\")  # Use MPS device\n",
    "# else:\n",
    "#     print(\"MPS not available, using CPU instead.\")\n",
    "#     device = torch.device(\"cpu\")  # Fallback to CPU"
   ],
   "id": "1031002551aa833b",
   "outputs": [],
   "execution_count": 60
  },
  {
   "metadata": {
    "ExecuteTime": {
     "end_time": "2024-04-13T17:43:21.286499Z",
     "start_time": "2024-04-13T17:43:21.281442Z"
    }
   },
   "cell_type": "code",
   "source": [
    "# # Initialize LeNet5 model\n",
    "# network = LeNet5()\n",
    "# network.to(device)\n",
    "# \n",
    "# # Define optimizer\n",
    "# criterion = nn.CrossEntropyLoss()\n",
    "# optimizer = optim.SGD(network.parameters(), lr=0.01, momentum=0.9)"
   ],
   "id": "33915eb6ca121a5b",
   "outputs": [],
   "execution_count": 61
  },
  {
   "metadata": {
    "ExecuteTime": {
     "end_time": "2024-04-13T17:43:21.292345Z",
     "start_time": "2024-04-13T17:43:21.288690Z"
    }
   },
   "cell_type": "code",
   "source": [
    "# # Train the model\n",
    "# accuracy_train = []\n",
    "# accuracy_test = []\n",
    "# train_losses = []\n",
    "# test_losses = []"
   ],
   "id": "8e05ab2918dc8e15",
   "outputs": [],
   "execution_count": 62
  },
  {
   "metadata": {
    "ExecuteTime": {
     "end_time": "2024-04-13T17:43:21.298913Z",
     "start_time": "2024-04-13T17:43:21.295276Z"
    }
   },
   "cell_type": "code",
   "source": [
    "# for i in range(20):\n",
    "#     print(f\"{i+1}th training iteration\")\n",
    "#     continue_training()\n",
    "#     testing()"
   ],
   "id": "5468b475ea076916",
   "outputs": [],
   "execution_count": 63
  },
  {
   "metadata": {
    "ExecuteTime": {
     "end_time": "2024-04-13T17:43:21.304911Z",
     "start_time": "2024-04-13T17:43:21.301058Z"
    }
   },
   "cell_type": "code",
   "source": [
    "# accuracy_train_lenet = accuracy_train[:]\n",
    "# accuracy_test_lenet = accuracy_test[:]\n",
    "# train_losses_lenet = train_losses[:]\n",
    "# test_losses_lenet = test_losses[:]"
   ],
   "id": "393be5d3839e811d",
   "outputs": [],
   "execution_count": 64
  },
  {
   "metadata": {
    "ExecuteTime": {
     "end_time": "2024-04-13T17:43:21.310910Z",
     "start_time": "2024-04-13T17:43:21.307498Z"
    }
   },
   "cell_type": "code",
   "source": [
    "# print(accuracy_train_lenet)\n",
    "# print(accuracy_test_lenet)"
   ],
   "id": "537cc215a7d0960d",
   "outputs": [],
   "execution_count": 65
  },
  {
   "metadata": {
    "ExecuteTime": {
     "end_time": "2024-04-13T17:43:21.316785Z",
     "start_time": "2024-04-13T17:43:21.313618Z"
    }
   },
   "cell_type": "code",
   "source": [
    "# plt.figure(figsize=(12,4))\n",
    "# # plt.plot(accuracy_train_original, label='training accuracies')\n",
    "# # plt.plot(accuracy_test_original, label='test accuracies')\n",
    "# # plt.plot(accuracy_train_ada, label='training accuracies (ada)', linestyle='--')\n",
    "# # plt.plot(accuracy_test_ada, label='test accuracies (ada)', linestyle='--')\n",
    "# plt.plot(accuracy_train_leaky_ada, label='training accuracies (leaky ada)')\n",
    "# plt.plot(accuracy_test_leaky_ada, label='test accuracies (leaky ada)')\n",
    "# plt.plot(accuracy_train_lenet, label='training accuracies (lenet)', linestyle='-.')\n",
    "# plt.plot(accuracy_test_lenet, label='test accuracies (lenet)', linestyle='-.')\n",
    "# \n",
    "# plt.legend()\n",
    "# plt.xlabel('training iterations')\n",
    "# plt.ylabel('accuracy')\n",
    "# plt.title('Test 6: Reduced neurons: Training and Test Accuracies')\n",
    "# plt.xticks(np.arange(0, len(accuracy_train), 1))\n",
    "# plt.show()"
   ],
   "id": "c87347b172f39a74",
   "outputs": [],
   "execution_count": 66
  }
 ],
 "metadata": {
  "kernelspec": {
   "display_name": "Python 3 (ipykernel)",
   "language": "python",
   "name": "python3"
  },
  "language_info": {
   "codemirror_mode": {
    "name": "ipython",
    "version": 3
   },
   "file_extension": ".py",
   "mimetype": "text/x-python",
   "name": "python",
   "nbconvert_exporter": "python",
   "pygments_lexer": "ipython3",
   "version": "3.10.8"
  }
 },
 "nbformat": 4,
 "nbformat_minor": 5
}
